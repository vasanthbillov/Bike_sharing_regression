{
 "cells": [
  {
   "cell_type": "markdown",
   "id": "aa4ce7a1",
   "metadata": {},
   "source": [
    "# Bike Sharing Assignment"
   ]
  },
  {
   "cell_type": "markdown",
   "id": "395b60c2",
   "metadata": {},
   "source": [
    "By: Vasanth Kumar"
   ]
  },
  {
   "cell_type": "markdown",
   "id": "d00a2bf4",
   "metadata": {},
   "source": [
    "### Problem Statement\n",
    "\n",
    "A bike-sharing system is a service in which bikes are made available for shared use to individuals on a short term basis for a price or free. Many bike share systems allow people to borrow a bike from a \"dock\" which is usually computer-controlled wherein the user enters the payment information, and the system unlocks it. This bike can then be returned to another dock belonging to the same system.\n",
    "\n",
    "\n",
    "A US bike-sharing provider BoomBikes has recently suffered considerable dips in their revenues due to the ongoing Corona pandemic. The company is finding it very difficult to sustain in the current market scenario. So, it has decided to come up with a mindful business plan to be able to accelerate its revenue as soon as the ongoing lockdown comes to an end, and the economy restores to a healthy state. \n",
    "\n",
    "\n",
    "In such an attempt, BoomBikes aspires to understand the demand for shared bikes among the people after this ongoing quarantine situation ends across the nation due to Covid-19. They have planned this to prepare themselves to cater to the people's needs once the situation gets better all around and stand out from other service providers and make huge profits.\n",
    "\n",
    "\n",
    "They have contracted a consulting company to understand the factors on which the demand for these shared bikes depends. Specifically, they want to understand the factors affecting the demand for these shared bikes in the American market. The company wants to know:\n",
    "\n",
    "Which variables are significant in predicting the demand for shared bikes.\n",
    "How well those variables describe the bike demands\n",
    "Based on various meteorological surveys and people's styles, the service provider firm has gathered a large dataset on daily bike demands across the American market based on some factors. \n",
    "\n",
    "\n",
    "### Business Goal \n",
    "\n",
    "You are required to model the demand for shared bikes with the available independent variables. It will be used by the management to understand how exactly the demands vary with different features. They can accordingly manipulate the business strategy to meet the demand levels and meet the customer's expectations. Further, the model will be a good way for management to understand the demand dynamics of a new market. \n",
    "\n",
    "\n",
    "\n"
   ]
  },
  {
   "cell_type": "code",
   "execution_count": 1,
   "id": "6519475f",
   "metadata": {},
   "outputs": [],
   "source": [
    "import warnings\n",
    "warnings.filterwarnings('ignore')"
   ]
  },
  {
   "cell_type": "code",
   "execution_count": 2,
   "id": "f9edc962",
   "metadata": {},
   "outputs": [],
   "source": [
    "import numpy as np\n",
    "import pandas as pd\n",
    "\n",
    "import matplotlib.pyplot as plt\n",
    "from matplotlib import cm\n",
    "from matplotlib.pyplot import figure\n",
    "%matplotlib inline\n",
    "import seaborn as sns\n",
    "\n",
    "from sklearn.model_selection import train_test_split\n",
    "from sklearn.preprocessing import MinMaxScaler\n",
    "\n",
    "import statsmodels.api as sm\n",
    "\n",
    "pd.options.display.float_format = '{:,.2f}'.format"
   ]
  },
  {
   "cell_type": "code",
   "execution_count": 3,
   "id": "51e6e18a",
   "metadata": {},
   "outputs": [
    {
     "data": {
      "text/html": [
       "<div>\n",
       "<style scoped>\n",
       "    .dataframe tbody tr th:only-of-type {\n",
       "        vertical-align: middle;\n",
       "    }\n",
       "\n",
       "    .dataframe tbody tr th {\n",
       "        vertical-align: top;\n",
       "    }\n",
       "\n",
       "    .dataframe thead th {\n",
       "        text-align: right;\n",
       "    }\n",
       "</style>\n",
       "<table border=\"1\" class=\"dataframe\">\n",
       "  <thead>\n",
       "    <tr style=\"text-align: right;\">\n",
       "      <th></th>\n",
       "      <th>instant</th>\n",
       "      <th>dteday</th>\n",
       "      <th>season</th>\n",
       "      <th>yr</th>\n",
       "      <th>mnth</th>\n",
       "      <th>holiday</th>\n",
       "      <th>weekday</th>\n",
       "      <th>workingday</th>\n",
       "      <th>weathersit</th>\n",
       "      <th>temp</th>\n",
       "      <th>atemp</th>\n",
       "      <th>hum</th>\n",
       "      <th>windspeed</th>\n",
       "      <th>casual</th>\n",
       "      <th>registered</th>\n",
       "      <th>cnt</th>\n",
       "    </tr>\n",
       "  </thead>\n",
       "  <tbody>\n",
       "    <tr>\n",
       "      <th>0</th>\n",
       "      <td>1</td>\n",
       "      <td>01-01-2018</td>\n",
       "      <td>1</td>\n",
       "      <td>0</td>\n",
       "      <td>1</td>\n",
       "      <td>0</td>\n",
       "      <td>6</td>\n",
       "      <td>0</td>\n",
       "      <td>2</td>\n",
       "      <td>14.11</td>\n",
       "      <td>18.18</td>\n",
       "      <td>80.58</td>\n",
       "      <td>10.75</td>\n",
       "      <td>331</td>\n",
       "      <td>654</td>\n",
       "      <td>985</td>\n",
       "    </tr>\n",
       "    <tr>\n",
       "      <th>1</th>\n",
       "      <td>2</td>\n",
       "      <td>02-01-2018</td>\n",
       "      <td>1</td>\n",
       "      <td>0</td>\n",
       "      <td>1</td>\n",
       "      <td>0</td>\n",
       "      <td>0</td>\n",
       "      <td>0</td>\n",
       "      <td>2</td>\n",
       "      <td>14.90</td>\n",
       "      <td>17.69</td>\n",
       "      <td>69.61</td>\n",
       "      <td>16.65</td>\n",
       "      <td>131</td>\n",
       "      <td>670</td>\n",
       "      <td>801</td>\n",
       "    </tr>\n",
       "    <tr>\n",
       "      <th>2</th>\n",
       "      <td>3</td>\n",
       "      <td>03-01-2018</td>\n",
       "      <td>1</td>\n",
       "      <td>0</td>\n",
       "      <td>1</td>\n",
       "      <td>0</td>\n",
       "      <td>1</td>\n",
       "      <td>1</td>\n",
       "      <td>1</td>\n",
       "      <td>8.05</td>\n",
       "      <td>9.47</td>\n",
       "      <td>43.73</td>\n",
       "      <td>16.64</td>\n",
       "      <td>120</td>\n",
       "      <td>1229</td>\n",
       "      <td>1349</td>\n",
       "    </tr>\n",
       "    <tr>\n",
       "      <th>3</th>\n",
       "      <td>4</td>\n",
       "      <td>04-01-2018</td>\n",
       "      <td>1</td>\n",
       "      <td>0</td>\n",
       "      <td>1</td>\n",
       "      <td>0</td>\n",
       "      <td>2</td>\n",
       "      <td>1</td>\n",
       "      <td>1</td>\n",
       "      <td>8.20</td>\n",
       "      <td>10.61</td>\n",
       "      <td>59.04</td>\n",
       "      <td>10.74</td>\n",
       "      <td>108</td>\n",
       "      <td>1454</td>\n",
       "      <td>1562</td>\n",
       "    </tr>\n",
       "    <tr>\n",
       "      <th>4</th>\n",
       "      <td>5</td>\n",
       "      <td>05-01-2018</td>\n",
       "      <td>1</td>\n",
       "      <td>0</td>\n",
       "      <td>1</td>\n",
       "      <td>0</td>\n",
       "      <td>3</td>\n",
       "      <td>1</td>\n",
       "      <td>1</td>\n",
       "      <td>9.31</td>\n",
       "      <td>11.46</td>\n",
       "      <td>43.70</td>\n",
       "      <td>12.52</td>\n",
       "      <td>82</td>\n",
       "      <td>1518</td>\n",
       "      <td>1600</td>\n",
       "    </tr>\n",
       "  </tbody>\n",
       "</table>\n",
       "</div>"
      ],
      "text/plain": [
       "   instant      dteday  season  yr  mnth  holiday  weekday  workingday  \\\n",
       "0        1  01-01-2018       1   0     1        0        6           0   \n",
       "1        2  02-01-2018       1   0     1        0        0           0   \n",
       "2        3  03-01-2018       1   0     1        0        1           1   \n",
       "3        4  04-01-2018       1   0     1        0        2           1   \n",
       "4        5  05-01-2018       1   0     1        0        3           1   \n",
       "\n",
       "   weathersit  temp  atemp   hum  windspeed  casual  registered   cnt  \n",
       "0           2 14.11  18.18 80.58      10.75     331         654   985  \n",
       "1           2 14.90  17.69 69.61      16.65     131         670   801  \n",
       "2           1  8.05   9.47 43.73      16.64     120        1229  1349  \n",
       "3           1  8.20  10.61 59.04      10.74     108        1454  1562  \n",
       "4           1  9.31  11.46 43.70      12.52      82        1518  1600  "
      ]
     },
     "execution_count": 3,
     "metadata": {},
     "output_type": "execute_result"
    }
   ],
   "source": [
    "#Reading data\n",
    "data = pd.read_csv('day.csv')\n",
    "data.head()"
   ]
  },
  {
   "cell_type": "code",
   "execution_count": 4,
   "id": "d82b7294",
   "metadata": {},
   "outputs": [
    {
     "data": {
      "text/plain": [
       "(730, 16)"
      ]
     },
     "execution_count": 4,
     "metadata": {},
     "output_type": "execute_result"
    }
   ],
   "source": [
    "data.shape"
   ]
  },
  {
   "cell_type": "code",
   "execution_count": 5,
   "id": "780e3328",
   "metadata": {},
   "outputs": [
    {
     "name": "stdout",
     "output_type": "stream",
     "text": [
      "<class 'pandas.core.frame.DataFrame'>\n",
      "RangeIndex: 730 entries, 0 to 729\n",
      "Data columns (total 16 columns):\n",
      " #   Column      Non-Null Count  Dtype  \n",
      "---  ------      --------------  -----  \n",
      " 0   instant     730 non-null    int64  \n",
      " 1   dteday      730 non-null    object \n",
      " 2   season      730 non-null    int64  \n",
      " 3   yr          730 non-null    int64  \n",
      " 4   mnth        730 non-null    int64  \n",
      " 5   holiday     730 non-null    int64  \n",
      " 6   weekday     730 non-null    int64  \n",
      " 7   workingday  730 non-null    int64  \n",
      " 8   weathersit  730 non-null    int64  \n",
      " 9   temp        730 non-null    float64\n",
      " 10  atemp       730 non-null    float64\n",
      " 11  hum         730 non-null    float64\n",
      " 12  windspeed   730 non-null    float64\n",
      " 13  casual      730 non-null    int64  \n",
      " 14  registered  730 non-null    int64  \n",
      " 15  cnt         730 non-null    int64  \n",
      "dtypes: float64(4), int64(11), object(1)\n",
      "memory usage: 91.4+ KB\n"
     ]
    }
   ],
   "source": [
    "data.info()"
   ]
  },
  {
   "cell_type": "code",
   "execution_count": 6,
   "id": "33cc4540",
   "metadata": {},
   "outputs": [
    {
     "data": {
      "text/plain": [
       "instant         int64\n",
       "dteday         object\n",
       "season          int64\n",
       "yr              int64\n",
       "mnth            int64\n",
       "holiday         int64\n",
       "weekday         int64\n",
       "workingday      int64\n",
       "weathersit      int64\n",
       "temp          float64\n",
       "atemp         float64\n",
       "hum           float64\n",
       "windspeed     float64\n",
       "casual          int64\n",
       "registered      int64\n",
       "cnt             int64\n",
       "dtype: object"
      ]
     },
     "execution_count": 6,
     "metadata": {},
     "output_type": "execute_result"
    }
   ],
   "source": [
    "data.dtypes"
   ]
  },
  {
   "cell_type": "code",
   "execution_count": 7,
   "id": "2b2a48a2",
   "metadata": {},
   "outputs": [],
   "source": [
    "# 'instant', 'dteday' variables are not useful for regression, so droping them.\n",
    "# 'casual','registered' are target variable, so droping them too.\n",
    "\n",
    "data.drop(['instant','dteday','casual','registered'],axis=1, inplace=True)"
   ]
  },
  {
   "cell_type": "code",
   "execution_count": 8,
   "id": "7a9510d3",
   "metadata": {},
   "outputs": [
    {
     "data": {
      "text/plain": [
       "Index(['season', 'yr', 'mnth', 'holiday', 'weekday', 'workingday',\n",
       "       'weathersit', 'temp', 'atemp', 'hum', 'windspeed', 'cnt'],\n",
       "      dtype='object')"
      ]
     },
     "execution_count": 8,
     "metadata": {},
     "output_type": "execute_result"
    }
   ],
   "source": [
    "data.columns"
   ]
  },
  {
   "cell_type": "markdown",
   "id": "371a0207",
   "metadata": {},
   "source": [
    "### Plotting Continous variable"
   ]
  },
  {
   "cell_type": "code",
   "execution_count": 9,
   "id": "fd3f8041",
   "metadata": {
    "scrolled": false
   },
   "outputs": [
    {
     "data": {
      "image/png": "[encoded data removed]",
      "text/plain": [
       "<Figure size 576x360 with 1 Axes>"
      ]
     },
     "metadata": {
      "needs_background": "light"
     },
     "output_type": "display_data"
    },
    {
     "data": {
      "image/png": "[encoded data removed]",
      "text/plain": [
       "<Figure size 576x360 with 1 Axes>"
      ]
     },
     "metadata": {
      "needs_background": "light"
     },
     "output_type": "display_data"
    },
    {
     "data": {
      "image/png": "[encoded data removed]",
      "text/plain": [
       "<Figure size 576x360 with 1 Axes>"
      ]
     },
     "metadata": {
      "needs_background": "light"
     },
     "output_type": "display_data"
    },
    {
     "data": {
      "image/png": "[encoded data removed]",
      "text/plain": [
       "<Figure size 576x360 with 1 Axes>"
      ]
     },
     "metadata": {
      "needs_background": "light"
     },
     "output_type": "display_data"
    }
   ],
   "source": [
    "contn_var = ['temp', 'atemp', 'hum', 'windspeed']\n",
    "for var in contn_var:\n",
    "    plt.figure(figsize = (8, 5))\n",
    "    sns.scatterplot(x = var, y = 'cnt', data = data)\n",
    "    plt.show()"
   ]
  },
  {
   "cell_type": "code",
   "execution_count": 10,
   "id": "4f9586c5",
   "metadata": {
    "scrolled": true
   },
   "outputs": [
    {
     "data": {
      "image/png": "[encoded data removed]",
      "text/plain": [
       "<Figure size 720x180 with 4 Axes>"
      ]
     },
     "metadata": {
      "needs_background": "light"
     },
     "output_type": "display_data"
    }
   ],
   "source": [
    "\n",
    "sns.pairplot(data, x_vars=['temp','atemp','hum','windspeed'],y_vars=['cnt'],kind='reg')\n",
    "plt.show()"
   ]
  },
  {
   "cell_type": "markdown",
   "id": "25daeaa0",
   "metadata": {},
   "source": [
    "### Observations:\n",
    "\n",
    "- temp has high correletaion with target variable.\n",
    "- hum and windspeed have nagative correlation."
   ]
  },
  {
   "cell_type": "markdown",
   "id": "034ecc7c",
   "metadata": {},
   "source": [
    "### Plotting Categorical variable"
   ]
  },
  {
   "cell_type": "code",
   "execution_count": 11,
   "id": "065b31ea",
   "metadata": {
    "scrolled": false
   },
   "outputs": [
    {
     "data": {
      "image/png": "[encoded data removed]",
      "text/plain": [
       "<Figure size 576x360 with 1 Axes>"
      ]
     },
     "metadata": {
      "needs_background": "light"
     },
     "output_type": "display_data"
    },
    {
     "data": {
      "image/png": "[encoded data removed]",
      "text/plain": [
       "<Figure size 576x360 with 1 Axes>"
      ]
     },
     "metadata": {
      "needs_background": "light"
     },
     "output_type": "display_data"
    },
    {
     "data": {
      "image/png": "[encoded data removed]",
      "text/plain": [
       "<Figure size 576x360 with 1 Axes>"
      ]
     },
     "metadata": {
      "needs_background": "light"
     },
     "output_type": "display_data"
    },
    {
     "data": {
      "image/png": "[encoded data removed]",
      "text/plain": [
       "<Figure size 576x360 with 1 Axes>"
      ]
     },
     "metadata": {
      "needs_background": "light"
     },
     "output_type": "display_data"
    },
    {
     "data": {
      "image/png": "[encoded data removed]",
      "text/plain": [
       "<Figure size 576x360 with 1 Axes>"
      ]
     },
     "metadata": {
      "needs_background": "light"
     },
     "output_type": "display_data"
    },
    {
     "data": {
      "image/png": "[encoded data removed]",
      "text/plain": [
       "<Figure size 576x360 with 1 Axes>"
      ]
     },
     "metadata": {
      "needs_background": "light"
     },
     "output_type": "display_data"
    },
    {
     "data": {
      "image/png": "[encoded data removed]",
      "text/plain": [
       "<Figure size 576x360 with 1 Axes>"
      ]
     },
     "metadata": {
      "needs_background": "light"
     },
     "output_type": "display_data"
    }
   ],
   "source": [
    "cat_var = ['season', 'yr', 'mnth', 'holiday', 'weekday', 'workingday',\n",
    "       'weathersit']\n",
    "for var in cat_var:\n",
    "    plt.figure(figsize = (8, 5))\n",
    "    sns.boxplot(x = var, y = 'cnt', data = data)\n",
    "    plt.show()"
   ]
  },
  {
   "cell_type": "markdown",
   "id": "2c91788f",
   "metadata": {},
   "source": [
    "\n",
    "### Observations:\n",
    "\n",
    "- Month and season seems highly correlated, In summer and fall, There is good hike in sale(count).\n",
    "- Growth seems incrementing from year to year. Growth is better in 2019 compare to 2018.\n",
    "- Clamate changes are also impacting on count.\n",
    "- Median of count is very similer in working day vs no working day.\n",
    "\n",
    "\n",
    "\n",
    "\n",
    "\n",
    "\n"
   ]
  },
  {
   "cell_type": "markdown",
   "id": "3d48dbf0",
   "metadata": {},
   "source": [
    "## Approach using manual feature elimination\n",
    "\n",
    "I realise after trying manual and automate fetaure elimination techniques, Manual one is better for this perticular assignment. \n",
    "\n",
    "But i have kept another approach using RFE at the end. **Please find it if that is crucial for assignment purpose.**"
   ]
  },
  {
   "cell_type": "code",
   "execution_count": 12,
   "id": "cf94b3bf",
   "metadata": {},
   "outputs": [],
   "source": [
    "#Taking copy of data\n",
    "data_copy_2 = data[:]"
   ]
  },
  {
   "cell_type": "markdown",
   "id": "5a57a545",
   "metadata": {},
   "source": [
    "#### Checking correlation and muliticolinearity of the variables"
   ]
  },
  {
   "cell_type": "code",
   "execution_count": 13,
   "id": "41fb81d9",
   "metadata": {},
   "outputs": [
    {
     "data": {
      "image/png": "[encoded data removed]",
      "text/plain": [
       "<Figure size 1152x720 with 2 Axes>"
      ]
     },
     "metadata": {
      "needs_background": "light"
     },
     "output_type": "display_data"
    }
   ],
   "source": [
    "plt.figure(figsize = (16, 10))\n",
    "sns.heatmap(data_copy_2.corr(), annot = True, cmap=\"YlGnBu\")\n",
    "plt.show()"
   ]
  },
  {
   "cell_type": "markdown",
   "id": "a7365700",
   "metadata": {},
   "source": [
    "### VIF method to check multicollinearity"
   ]
  },
  {
   "cell_type": "code",
   "execution_count": 14,
   "id": "cf495e90",
   "metadata": {},
   "outputs": [],
   "source": [
    "from statsmodels.stats.outliers_influence import variance_inflation_factor"
   ]
  },
  {
   "cell_type": "code",
   "execution_count": 15,
   "id": "cc70fb11",
   "metadata": {},
   "outputs": [
    {
     "data": {
      "text/html": [
       "<div>\n",
       "<style scoped>\n",
       "    .dataframe tbody tr th:only-of-type {\n",
       "        vertical-align: middle;\n",
       "    }\n",
       "\n",
       "    .dataframe tbody tr th {\n",
       "        vertical-align: top;\n",
       "    }\n",
       "\n",
       "    .dataframe thead th {\n",
       "        text-align: right;\n",
       "    }\n",
       "</style>\n",
       "<table border=\"1\" class=\"dataframe\">\n",
       "  <thead>\n",
       "    <tr style=\"text-align: right;\">\n",
       "      <th></th>\n",
       "      <th>Features</th>\n",
       "      <th>VIF</th>\n",
       "    </tr>\n",
       "  </thead>\n",
       "  <tbody>\n",
       "    <tr>\n",
       "      <th>8</th>\n",
       "      <td>atemp</td>\n",
       "      <td>571.51</td>\n",
       "    </tr>\n",
       "    <tr>\n",
       "      <th>7</th>\n",
       "      <td>temp</td>\n",
       "      <td>493.17</td>\n",
       "    </tr>\n",
       "    <tr>\n",
       "      <th>11</th>\n",
       "      <td>cnt</td>\n",
       "      <td>30.73</td>\n",
       "    </tr>\n",
       "    <tr>\n",
       "      <th>9</th>\n",
       "      <td>hum</td>\n",
       "      <td>28.04</td>\n",
       "    </tr>\n",
       "    <tr>\n",
       "      <th>0</th>\n",
       "      <td>season</td>\n",
       "      <td>24.07</td>\n",
       "    </tr>\n",
       "    <tr>\n",
       "      <th>2</th>\n",
       "      <td>mnth</td>\n",
       "      <td>15.36</td>\n",
       "    </tr>\n",
       "    <tr>\n",
       "      <th>6</th>\n",
       "      <td>weathersit</td>\n",
       "      <td>14.32</td>\n",
       "    </tr>\n",
       "    <tr>\n",
       "      <th>10</th>\n",
       "      <td>windspeed</td>\n",
       "      <td>5.33</td>\n",
       "    </tr>\n",
       "    <tr>\n",
       "      <th>1</th>\n",
       "      <td>yr</td>\n",
       "      <td>4.85</td>\n",
       "    </tr>\n",
       "    <tr>\n",
       "      <th>5</th>\n",
       "      <td>workingday</td>\n",
       "      <td>3.31</td>\n",
       "    </tr>\n",
       "    <tr>\n",
       "      <th>4</th>\n",
       "      <td>weekday</td>\n",
       "      <td>3.25</td>\n",
       "    </tr>\n",
       "    <tr>\n",
       "      <th>3</th>\n",
       "      <td>holiday</td>\n",
       "      <td>1.10</td>\n",
       "    </tr>\n",
       "  </tbody>\n",
       "</table>\n",
       "</div>"
      ],
      "text/plain": [
       "      Features    VIF\n",
       "8        atemp 571.51\n",
       "7         temp 493.17\n",
       "11         cnt  30.73\n",
       "9          hum  28.04\n",
       "0       season  24.07\n",
       "2         mnth  15.36\n",
       "6   weathersit  14.32\n",
       "10   windspeed   5.33\n",
       "1           yr   4.85\n",
       "5   workingday   3.31\n",
       "4      weekday   3.25\n",
       "3      holiday   1.10"
      ]
     },
     "execution_count": 15,
     "metadata": {},
     "output_type": "execute_result"
    }
   ],
   "source": [
    "vif = pd.DataFrame()\n",
    "vif['Features'] = data_copy_2.columns\n",
    "vif['VIF'] = [variance_inflation_factor(data_copy_2.values, i) for i in range(data_copy_2.shape[1])]\n",
    "vif['VIF'] = round(vif['VIF'], 2)\n",
    "vif = vif.sort_values(by = \"VIF\", ascending = False)\n",
    "vif"
   ]
  },
  {
   "cell_type": "markdown",
   "id": "befcbb7b",
   "metadata": {},
   "source": [
    "\n",
    "### Dropping variables\n",
    "\n",
    "- 'season' and 'mnth' are highly correlated, so keeping 'season' only\n",
    "- 'weekday' and 'workingday' are correlated, 'workingday' has more correlation with target varibale , so keeping it.\n",
    "- 'temp' and 'atemp' are highly correlated, so keeping 'temp' only\n",
    "- 'weathersit', is insignificant, so droping it.\n",
    "\n"
   ]
  },
  {
   "cell_type": "code",
   "execution_count": 16,
   "id": "d5e36df0",
   "metadata": {},
   "outputs": [],
   "source": [
    "data_copy_2.drop(['mnth','weekday','weathersit','atemp'], axis=1, inplace=True)"
   ]
  },
  {
   "cell_type": "code",
   "execution_count": 17,
   "id": "da2466bf",
   "metadata": {},
   "outputs": [
    {
     "data": {
      "text/html": [
       "<div>\n",
       "<style scoped>\n",
       "    .dataframe tbody tr th:only-of-type {\n",
       "        vertical-align: middle;\n",
       "    }\n",
       "\n",
       "    .dataframe tbody tr th {\n",
       "        vertical-align: top;\n",
       "    }\n",
       "\n",
       "    .dataframe thead th {\n",
       "        text-align: right;\n",
       "    }\n",
       "</style>\n",
       "<table border=\"1\" class=\"dataframe\">\n",
       "  <thead>\n",
       "    <tr style=\"text-align: right;\">\n",
       "      <th></th>\n",
       "      <th>season</th>\n",
       "      <th>yr</th>\n",
       "      <th>holiday</th>\n",
       "      <th>workingday</th>\n",
       "      <th>temp</th>\n",
       "      <th>hum</th>\n",
       "      <th>windspeed</th>\n",
       "      <th>cnt</th>\n",
       "    </tr>\n",
       "  </thead>\n",
       "  <tbody>\n",
       "    <tr>\n",
       "      <th>0</th>\n",
       "      <td>1</td>\n",
       "      <td>0</td>\n",
       "      <td>0</td>\n",
       "      <td>0</td>\n",
       "      <td>14.11</td>\n",
       "      <td>80.58</td>\n",
       "      <td>10.75</td>\n",
       "      <td>985</td>\n",
       "    </tr>\n",
       "    <tr>\n",
       "      <th>1</th>\n",
       "      <td>1</td>\n",
       "      <td>0</td>\n",
       "      <td>0</td>\n",
       "      <td>0</td>\n",
       "      <td>14.90</td>\n",
       "      <td>69.61</td>\n",
       "      <td>16.65</td>\n",
       "      <td>801</td>\n",
       "    </tr>\n",
       "    <tr>\n",
       "      <th>2</th>\n",
       "      <td>1</td>\n",
       "      <td>0</td>\n",
       "      <td>0</td>\n",
       "      <td>1</td>\n",
       "      <td>8.05</td>\n",
       "      <td>43.73</td>\n",
       "      <td>16.64</td>\n",
       "      <td>1349</td>\n",
       "    </tr>\n",
       "    <tr>\n",
       "      <th>3</th>\n",
       "      <td>1</td>\n",
       "      <td>0</td>\n",
       "      <td>0</td>\n",
       "      <td>1</td>\n",
       "      <td>8.20</td>\n",
       "      <td>59.04</td>\n",
       "      <td>10.74</td>\n",
       "      <td>1562</td>\n",
       "    </tr>\n",
       "    <tr>\n",
       "      <th>4</th>\n",
       "      <td>1</td>\n",
       "      <td>0</td>\n",
       "      <td>0</td>\n",
       "      <td>1</td>\n",
       "      <td>9.31</td>\n",
       "      <td>43.70</td>\n",
       "      <td>12.52</td>\n",
       "      <td>1600</td>\n",
       "    </tr>\n",
       "  </tbody>\n",
       "</table>\n",
       "</div>"
      ],
      "text/plain": [
       "   season  yr  holiday  workingday  temp   hum  windspeed   cnt\n",
       "0       1   0        0           0 14.11 80.58      10.75   985\n",
       "1       1   0        0           0 14.90 69.61      16.65   801\n",
       "2       1   0        0           1  8.05 43.73      16.64  1349\n",
       "3       1   0        0           1  8.20 59.04      10.74  1562\n",
       "4       1   0        0           1  9.31 43.70      12.52  1600"
      ]
     },
     "execution_count": 17,
     "metadata": {},
     "output_type": "execute_result"
    }
   ],
   "source": [
    "data_copy_2.head()"
   ]
  },
  {
   "cell_type": "markdown",
   "id": "25163d4c",
   "metadata": {},
   "source": [
    "### Converting categories from numaric to string"
   ]
  },
  {
   "cell_type": "code",
   "execution_count": 18,
   "id": "78d59c25",
   "metadata": {},
   "outputs": [
    {
     "data": {
      "text/html": [
       "<div>\n",
       "<style scoped>\n",
       "    .dataframe tbody tr th:only-of-type {\n",
       "        vertical-align: middle;\n",
       "    }\n",
       "\n",
       "    .dataframe tbody tr th {\n",
       "        vertical-align: top;\n",
       "    }\n",
       "\n",
       "    .dataframe thead th {\n",
       "        text-align: right;\n",
       "    }\n",
       "</style>\n",
       "<table border=\"1\" class=\"dataframe\">\n",
       "  <thead>\n",
       "    <tr style=\"text-align: right;\">\n",
       "      <th></th>\n",
       "      <th>season</th>\n",
       "      <th>yr</th>\n",
       "      <th>holiday</th>\n",
       "      <th>workingday</th>\n",
       "      <th>temp</th>\n",
       "      <th>hum</th>\n",
       "      <th>windspeed</th>\n",
       "      <th>cnt</th>\n",
       "      <th>summer</th>\n",
       "      <th>fall</th>\n",
       "      <th>winter</th>\n",
       "    </tr>\n",
       "  </thead>\n",
       "  <tbody>\n",
       "    <tr>\n",
       "      <th>0</th>\n",
       "      <td>spring</td>\n",
       "      <td>0</td>\n",
       "      <td>0</td>\n",
       "      <td>0</td>\n",
       "      <td>14.11</td>\n",
       "      <td>80.58</td>\n",
       "      <td>10.75</td>\n",
       "      <td>985</td>\n",
       "      <td>0</td>\n",
       "      <td>0</td>\n",
       "      <td>0</td>\n",
       "    </tr>\n",
       "    <tr>\n",
       "      <th>1</th>\n",
       "      <td>spring</td>\n",
       "      <td>0</td>\n",
       "      <td>0</td>\n",
       "      <td>0</td>\n",
       "      <td>14.90</td>\n",
       "      <td>69.61</td>\n",
       "      <td>16.65</td>\n",
       "      <td>801</td>\n",
       "      <td>0</td>\n",
       "      <td>0</td>\n",
       "      <td>0</td>\n",
       "    </tr>\n",
       "    <tr>\n",
       "      <th>2</th>\n",
       "      <td>spring</td>\n",
       "      <td>0</td>\n",
       "      <td>0</td>\n",
       "      <td>1</td>\n",
       "      <td>8.05</td>\n",
       "      <td>43.73</td>\n",
       "      <td>16.64</td>\n",
       "      <td>1349</td>\n",
       "      <td>0</td>\n",
       "      <td>0</td>\n",
       "      <td>0</td>\n",
       "    </tr>\n",
       "    <tr>\n",
       "      <th>3</th>\n",
       "      <td>spring</td>\n",
       "      <td>0</td>\n",
       "      <td>0</td>\n",
       "      <td>1</td>\n",
       "      <td>8.20</td>\n",
       "      <td>59.04</td>\n",
       "      <td>10.74</td>\n",
       "      <td>1562</td>\n",
       "      <td>0</td>\n",
       "      <td>0</td>\n",
       "      <td>0</td>\n",
       "    </tr>\n",
       "    <tr>\n",
       "      <th>4</th>\n",
       "      <td>spring</td>\n",
       "      <td>0</td>\n",
       "      <td>0</td>\n",
       "      <td>1</td>\n",
       "      <td>9.31</td>\n",
       "      <td>43.70</td>\n",
       "      <td>12.52</td>\n",
       "      <td>1600</td>\n",
       "      <td>0</td>\n",
       "      <td>0</td>\n",
       "      <td>0</td>\n",
       "    </tr>\n",
       "  </tbody>\n",
       "</table>\n",
       "</div>"
      ],
      "text/plain": [
       "   season  yr  holiday  workingday  temp   hum  windspeed   cnt  summer  fall  \\\n",
       "0  spring   0        0           0 14.11 80.58      10.75   985       0     0   \n",
       "1  spring   0        0           0 14.90 69.61      16.65   801       0     0   \n",
       "2  spring   0        0           1  8.05 43.73      16.64  1349       0     0   \n",
       "3  spring   0        0           1  8.20 59.04      10.74  1562       0     0   \n",
       "4  spring   0        0           1  9.31 43.70      12.52  1600       0     0   \n",
       "\n",
       "   winter  \n",
       "0       0  \n",
       "1       0  \n",
       "2       0  \n",
       "3       0  \n",
       "4       0  "
      ]
     },
     "execution_count": 18,
     "metadata": {},
     "output_type": "execute_result"
    }
   ],
   "source": [
    "data_copy_2['season'] = data_copy_2['season'].astype('category')\n",
    "data_copy_2['season'] = data_copy_2['season'].cat.rename_categories(['spring', 'summer', 'fall','winter'])\n",
    "\n",
    "dummy_season = pd.get_dummies(data_copy_2['season'], drop_first = True)\n",
    "data_copy_2 = pd.concat([data_copy_2, dummy_season], axis = 1)\n",
    "\n",
    "data_copy_2.head()"
   ]
  },
  {
   "cell_type": "code",
   "execution_count": 19,
   "id": "46ae6e84",
   "metadata": {},
   "outputs": [],
   "source": [
    "#Dropping redundent variables\n",
    "\n",
    "data_copy_2.drop('season',axis=1,inplace=True)"
   ]
  },
  {
   "cell_type": "markdown",
   "id": "04cd4949",
   "metadata": {},
   "source": [
    "### Building Model"
   ]
  },
  {
   "cell_type": "code",
   "execution_count": 20,
   "id": "778d9f40",
   "metadata": {},
   "outputs": [],
   "source": [
    "# Splitting data into ytrain and test set.\n",
    "np.random.seed(0)\n",
    "train_data_copy_2, test_data_copy_2 = train_test_split(data_copy_2, train_size = 0.7, \n",
    "                                                       test_size = 0.3, random_state = 100)"
   ]
  },
  {
   "cell_type": "code",
   "execution_count": 21,
   "id": "61322d10",
   "metadata": {},
   "outputs": [],
   "source": [
    "#Scaling variable \n",
    "\n",
    "scaler = MinMaxScaler()\n",
    "num_vars = ['temp','cnt','hum','windspeed']\n",
    "\n",
    "train_data_copy_2[num_vars] = scaler.fit_transform(train_data_copy_2[num_vars])"
   ]
  },
  {
   "cell_type": "code",
   "execution_count": 22,
   "id": "40aafce5",
   "metadata": {},
   "outputs": [
    {
     "data": {
      "text/html": [
       "<div>\n",
       "<style scoped>\n",
       "    .dataframe tbody tr th:only-of-type {\n",
       "        vertical-align: middle;\n",
       "    }\n",
       "\n",
       "    .dataframe tbody tr th {\n",
       "        vertical-align: top;\n",
       "    }\n",
       "\n",
       "    .dataframe thead th {\n",
       "        text-align: right;\n",
       "    }\n",
       "</style>\n",
       "<table border=\"1\" class=\"dataframe\">\n",
       "  <thead>\n",
       "    <tr style=\"text-align: right;\">\n",
       "      <th></th>\n",
       "      <th>yr</th>\n",
       "      <th>holiday</th>\n",
       "      <th>workingday</th>\n",
       "      <th>temp</th>\n",
       "      <th>hum</th>\n",
       "      <th>windspeed</th>\n",
       "      <th>cnt</th>\n",
       "      <th>summer</th>\n",
       "      <th>fall</th>\n",
       "      <th>winter</th>\n",
       "    </tr>\n",
       "  </thead>\n",
       "  <tbody>\n",
       "    <tr>\n",
       "      <th>653</th>\n",
       "      <td>1</td>\n",
       "      <td>0</td>\n",
       "      <td>1</td>\n",
       "      <td>0.51</td>\n",
       "      <td>0.58</td>\n",
       "      <td>0.30</td>\n",
       "      <td>0.86</td>\n",
       "      <td>0</td>\n",
       "      <td>0</td>\n",
       "      <td>1</td>\n",
       "    </tr>\n",
       "    <tr>\n",
       "      <th>576</th>\n",
       "      <td>1</td>\n",
       "      <td>0</td>\n",
       "      <td>1</td>\n",
       "      <td>0.82</td>\n",
       "      <td>0.73</td>\n",
       "      <td>0.26</td>\n",
       "      <td>0.83</td>\n",
       "      <td>0</td>\n",
       "      <td>1</td>\n",
       "      <td>0</td>\n",
       "    </tr>\n",
       "    <tr>\n",
       "      <th>426</th>\n",
       "      <td>1</td>\n",
       "      <td>0</td>\n",
       "      <td>0</td>\n",
       "      <td>0.44</td>\n",
       "      <td>0.64</td>\n",
       "      <td>0.26</td>\n",
       "      <td>0.47</td>\n",
       "      <td>0</td>\n",
       "      <td>0</td>\n",
       "      <td>0</td>\n",
       "    </tr>\n",
       "    <tr>\n",
       "      <th>728</th>\n",
       "      <td>1</td>\n",
       "      <td>0</td>\n",
       "      <td>0</td>\n",
       "      <td>0.25</td>\n",
       "      <td>0.50</td>\n",
       "      <td>0.66</td>\n",
       "      <td>0.20</td>\n",
       "      <td>0</td>\n",
       "      <td>0</td>\n",
       "      <td>0</td>\n",
       "    </tr>\n",
       "    <tr>\n",
       "      <th>482</th>\n",
       "      <td>1</td>\n",
       "      <td>0</td>\n",
       "      <td>0</td>\n",
       "      <td>0.40</td>\n",
       "      <td>0.50</td>\n",
       "      <td>0.19</td>\n",
       "      <td>0.48</td>\n",
       "      <td>1</td>\n",
       "      <td>0</td>\n",
       "      <td>0</td>\n",
       "    </tr>\n",
       "  </tbody>\n",
       "</table>\n",
       "</div>"
      ],
      "text/plain": [
       "     yr  holiday  workingday  temp  hum  windspeed  cnt  summer  fall  winter\n",
       "653   1        0           1  0.51 0.58       0.30 0.86       0     0       1\n",
       "576   1        0           1  0.82 0.73       0.26 0.83       0     1       0\n",
       "426   1        0           0  0.44 0.64       0.26 0.47       0     0       0\n",
       "728   1        0           0  0.25 0.50       0.66 0.20       0     0       0\n",
       "482   1        0           0  0.40 0.50       0.19 0.48       1     0       0"
      ]
     },
     "execution_count": 22,
     "metadata": {},
     "output_type": "execute_result"
    }
   ],
   "source": [
    "train_data_copy_2.head()"
   ]
  },
  {
   "cell_type": "code",
   "execution_count": 23,
   "id": "29716d0d",
   "metadata": {},
   "outputs": [],
   "source": [
    "#separating Independent and dependent variables\n",
    "\n",
    "y_train_2 = train_data_copy_2.pop('cnt')\n",
    "X_train_2 = train_data_copy_2\n"
   ]
  },
  {
   "cell_type": "code",
   "execution_count": 24,
   "id": "18631f0a",
   "metadata": {},
   "outputs": [
    {
     "data": {
      "text/html": [
       "<table class=\"simpletable\">\n",
       "<caption>OLS Regression Results</caption>\n",
       "<tr>\n",
       "  <th>Dep. Variable:</th>           <td>cnt</td>       <th>  R-squared:         </th> <td>   0.800</td> \n",
       "</tr>\n",
       "<tr>\n",
       "  <th>Model:</th>                   <td>OLS</td>       <th>  Adj. R-squared:    </th> <td>   0.796</td> \n",
       "</tr>\n",
       "<tr>\n",
       "  <th>Method:</th>             <td>Least Squares</td>  <th>  F-statistic:       </th> <td>   222.0</td> \n",
       "</tr>\n",
       "<tr>\n",
       "  <th>Date:</th>             <td>Mon, 30 Aug 2021</td> <th>  Prob (F-statistic):</th> <td>2.14e-168</td>\n",
       "</tr>\n",
       "<tr>\n",
       "  <th>Time:</th>                 <td>07:47:49</td>     <th>  Log-Likelihood:    </th> <td>  448.75</td> \n",
       "</tr>\n",
       "<tr>\n",
       "  <th>No. Observations:</th>      <td>   510</td>      <th>  AIC:               </th> <td>  -877.5</td> \n",
       "</tr>\n",
       "<tr>\n",
       "  <th>Df Residuals:</th>          <td>   500</td>      <th>  BIC:               </th> <td>  -835.2</td> \n",
       "</tr>\n",
       "<tr>\n",
       "  <th>Df Model:</th>              <td>     9</td>      <th>                     </th>     <td> </td>    \n",
       "</tr>\n",
       "<tr>\n",
       "  <th>Covariance Type:</th>      <td>nonrobust</td>    <th>                     </th>     <td> </td>    \n",
       "</tr>\n",
       "</table>\n",
       "<table class=\"simpletable\">\n",
       "<tr>\n",
       "       <td></td>         <th>coef</th>     <th>std err</th>      <th>t</th>      <th>P>|t|</th>  <th>[0.025</th>    <th>0.975]</th>  \n",
       "</tr>\n",
       "<tr>\n",
       "  <th>const</th>      <td>    0.2951</td> <td>    0.029</td> <td>   10.339</td> <td> 0.000</td> <td>    0.239</td> <td>    0.351</td>\n",
       "</tr>\n",
       "<tr>\n",
       "  <th>yr</th>         <td>    0.2300</td> <td>    0.009</td> <td>   25.250</td> <td> 0.000</td> <td>    0.212</td> <td>    0.248</td>\n",
       "</tr>\n",
       "<tr>\n",
       "  <th>holiday</th>    <td>   -0.0648</td> <td>    0.029</td> <td>   -2.206</td> <td> 0.028</td> <td>   -0.123</td> <td>   -0.007</td>\n",
       "</tr>\n",
       "<tr>\n",
       "  <th>workingday</th> <td>    0.0143</td> <td>    0.010</td> <td>    1.440</td> <td> 0.151</td> <td>   -0.005</td> <td>    0.034</td>\n",
       "</tr>\n",
       "<tr>\n",
       "  <th>temp</th>       <td>    0.5467</td> <td>    0.036</td> <td>   15.040</td> <td> 0.000</td> <td>    0.475</td> <td>    0.618</td>\n",
       "</tr>\n",
       "<tr>\n",
       "  <th>hum</th>        <td>   -0.3155</td> <td>    0.033</td> <td>   -9.545</td> <td> 0.000</td> <td>   -0.380</td> <td>   -0.251</td>\n",
       "</tr>\n",
       "<tr>\n",
       "  <th>windspeed</th>  <td>   -0.2339</td> <td>    0.028</td> <td>   -8.285</td> <td> 0.000</td> <td>   -0.289</td> <td>   -0.178</td>\n",
       "</tr>\n",
       "<tr>\n",
       "  <th>summer</th>     <td>    0.1082</td> <td>    0.017</td> <td>    6.530</td> <td> 0.000</td> <td>    0.076</td> <td>    0.141</td>\n",
       "</tr>\n",
       "<tr>\n",
       "  <th>fall</th>       <td>    0.0563</td> <td>    0.022</td> <td>    2.537</td> <td> 0.011</td> <td>    0.013</td> <td>    0.100</td>\n",
       "</tr>\n",
       "<tr>\n",
       "  <th>winter</th>     <td>    0.1566</td> <td>    0.014</td> <td>   11.077</td> <td> 0.000</td> <td>    0.129</td> <td>    0.184</td>\n",
       "</tr>\n",
       "</table>\n",
       "<table class=\"simpletable\">\n",
       "<tr>\n",
       "  <th>Omnibus:</th>       <td>81.868</td> <th>  Durbin-Watson:     </th> <td>   2.009</td>\n",
       "</tr>\n",
       "<tr>\n",
       "  <th>Prob(Omnibus):</th> <td> 0.000</td> <th>  Jarque-Bera (JB):  </th> <td> 210.597</td>\n",
       "</tr>\n",
       "<tr>\n",
       "  <th>Skew:</th>          <td>-0.806</td> <th>  Prob(JB):          </th> <td>1.86e-46</td>\n",
       "</tr>\n",
       "<tr>\n",
       "  <th>Kurtosis:</th>      <td> 5.704</td> <th>  Cond. No.          </th> <td>    16.5</td>\n",
       "</tr>\n",
       "</table><br/><br/>Notes:<br/>[1] Standard Errors assume that the covariance matrix of the errors is correctly specified."
      ],
      "text/plain": [
       "<class 'statsmodels.iolib.summary.Summary'>\n",
       "\"\"\"\n",
       "                            OLS Regression Results                            \n",
       "==============================================================================\n",
       "Dep. Variable:                    cnt   R-squared:                       0.800\n",
       "Model:                            OLS   Adj. R-squared:                  0.796\n",
       "Method:                 Least Squares   F-statistic:                     222.0\n",
       "Date:                Mon, 30 Aug 2021   Prob (F-statistic):          2.14e-168\n",
       "Time:                        07:47:49   Log-Likelihood:                 448.75\n",
       "No. Observations:                 510   AIC:                            -877.5\n",
       "Df Residuals:                     500   BIC:                            -835.2\n",
       "Df Model:                           9                                         \n",
       "Covariance Type:            nonrobust                                         \n",
       "==============================================================================\n",
       "                 coef    std err          t      P>|t|      [0.025      0.975]\n",
       "------------------------------------------------------------------------------\n",
       "const          0.2951      0.029     10.339      0.000       0.239       0.351\n",
       "yr             0.2300      0.009     25.250      0.000       0.212       0.248\n",
       "holiday       -0.0648      0.029     -2.206      0.028      -0.123      -0.007\n",
       "workingday     0.0143      0.010      1.440      0.151      -0.005       0.034\n",
       "temp           0.5467      0.036     15.040      0.000       0.475       0.618\n",
       "hum           -0.3155      0.033     -9.545      0.000      -0.380      -0.251\n",
       "windspeed     -0.2339      0.028     -8.285      0.000      -0.289      -0.178\n",
       "summer         0.1082      0.017      6.530      0.000       0.076       0.141\n",
       "fall           0.0563      0.022      2.537      0.011       0.013       0.100\n",
       "winter         0.1566      0.014     11.077      0.000       0.129       0.184\n",
       "==============================================================================\n",
       "Omnibus:                       81.868   Durbin-Watson:                   2.009\n",
       "Prob(Omnibus):                  0.000   Jarque-Bera (JB):              210.597\n",
       "Skew:                          -0.806   Prob(JB):                     1.86e-46\n",
       "Kurtosis:                       5.704   Cond. No.                         16.5\n",
       "==============================================================================\n",
       "\n",
       "Notes:\n",
       "[1] Standard Errors assume that the covariance matrix of the errors is correctly specified.\n",
       "\"\"\""
      ]
     },
     "execution_count": 24,
     "metadata": {},
     "output_type": "execute_result"
    }
   ],
   "source": [
    "#Building Model\n",
    "\n",
    "# Add a constant\n",
    "X_train_lm_2 = sm.add_constant(X_train_2)\n",
    "\n",
    "# Create a first fitted model\n",
    "linear_model_3 = sm.OLS(y_train_2, X_train_lm_2).fit()\n",
    "\n",
    "linear_model_3.summary()"
   ]
  },
  {
   "cell_type": "code",
   "execution_count": 25,
   "id": "8e6ac089",
   "metadata": {},
   "outputs": [],
   "source": [
    "#Predicting y_pred\n",
    "y_train_2_pred = linear_model_3.predict(X_train_lm_2)"
   ]
  },
  {
   "cell_type": "code",
   "execution_count": null,
   "id": "895e314b",
   "metadata": {},
   "outputs": [],
   "source": []
  },
  {
   "cell_type": "code",
   "execution_count": 26,
   "id": "c353bd65",
   "metadata": {},
   "outputs": [
    {
     "name": "stdout",
     "output_type": "stream",
     "text": [
      "R-score:  0.8\n"
     ]
    }
   ],
   "source": [
    "#As mentioned, Calculating r2 from sklearn.metrics\n",
    "\n",
    "from sklearn.metrics import r2_score\n",
    "print('R-score: ', round(r2_score(y_train_2, y_train_2_pred),3))"
   ]
  },
  {
   "cell_type": "code",
   "execution_count": 27,
   "id": "f3285b77",
   "metadata": {},
   "outputs": [
    {
     "data": {
      "text/plain": [
       "0.7958615500988766"
      ]
     },
     "execution_count": 27,
     "metadata": {},
     "output_type": "execute_result"
    }
   ],
   "source": [
    "#Calculated Adjusted r2 manually\n",
    "adj_r2 = 1 - (1-r2_score(y_train_2, y_train_2_pred)) * (len(y_train_2)-1)/(len(y_train_2)-X_train_lm_2.shape[1]-1)\n",
    "adj_r2"
   ]
  },
  {
   "cell_type": "markdown",
   "id": "53fb34a3",
   "metadata": {},
   "source": [
    "### R-score of train:  0.80\n",
    "### Adj R-score of train:  0.796\n",
    "\n",
    "### Model is signficant "
   ]
  },
  {
   "cell_type": "markdown",
   "id": "67263ff3",
   "metadata": {},
   "source": [
    "### Varifying error tems"
   ]
  },
  {
   "cell_type": "code",
   "execution_count": 28,
   "id": "ac8d1f60",
   "metadata": {},
   "outputs": [
    {
     "data": {
      "text/plain": [
       "653    0.14\n",
       "576    0.08\n",
       "426   -0.04\n",
       "728   -0.14\n",
       "482   -0.16\n",
       "dtype: float64"
      ]
     },
     "execution_count": 28,
     "metadata": {},
     "output_type": "execute_result"
    }
   ],
   "source": [
    "res = y_train_2 - y_train_2_pred\n",
    "res.head()"
   ]
  },
  {
   "cell_type": "markdown",
   "id": "93bbe3cb",
   "metadata": {},
   "source": [
    "### Distribution of Residuals"
   ]
  },
  {
   "cell_type": "code",
   "execution_count": 29,
   "id": "f4235f44",
   "metadata": {},
   "outputs": [
    {
     "data": {
      "text/plain": [
       "Text(0.5, 0, 'Errors')"
      ]
     },
     "execution_count": 29,
     "metadata": {},
     "output_type": "execute_result"
    },
    {
     "data": {
      "image/png": "[encoded data removed]",
      "text/plain": [
       "<Figure size 432x288 with 1 Axes>"
      ]
     },
     "metadata": {
      "needs_background": "light"
     },
     "output_type": "display_data"
    }
   ],
   "source": [
    "fig = plt.figure()\n",
    "sns.distplot((res), bins = 20)\n",
    "fig.suptitle('Error Terms', fontsize = 20)\n",
    "plt.xlabel('Errors', fontsize = 18)"
   ]
  },
  {
   "cell_type": "markdown",
   "id": "26b9be3c",
   "metadata": {},
   "source": [
    "### Scatterplot of Residuals"
   ]
  },
  {
   "cell_type": "code",
   "execution_count": 30,
   "id": "32f0ec70",
   "metadata": {
    "scrolled": false
   },
   "outputs": [
    {
     "data": {
      "image/png": "[encoded data removed]",
      "text/plain": [
       "<Figure size 432x288 with 1 Axes>"
      ]
     },
     "metadata": {
      "needs_background": "light"
     },
     "output_type": "display_data"
    }
   ],
   "source": [
    "sns.scatterplot(x=y_train_2_pred,y=res)\n",
    "plt.show()"
   ]
  },
  {
   "cell_type": "markdown",
   "id": "6ef29f24",
   "metadata": {},
   "source": [
    "### Observations:\n",
    "\n",
    "- Error term is normally distrubted.\n",
    "- Variance of error term is independent."
   ]
  },
  {
   "cell_type": "markdown",
   "id": "1e8b7f2a",
   "metadata": {},
   "source": [
    "### Testing Model"
   ]
  },
  {
   "cell_type": "code",
   "execution_count": 31,
   "id": "be5acb65",
   "metadata": {},
   "outputs": [
    {
     "data": {
      "text/html": [
       "<div>\n",
       "<style scoped>\n",
       "    .dataframe tbody tr th:only-of-type {\n",
       "        vertical-align: middle;\n",
       "    }\n",
       "\n",
       "    .dataframe tbody tr th {\n",
       "        vertical-align: top;\n",
       "    }\n",
       "\n",
       "    .dataframe thead th {\n",
       "        text-align: right;\n",
       "    }\n",
       "</style>\n",
       "<table border=\"1\" class=\"dataframe\">\n",
       "  <thead>\n",
       "    <tr style=\"text-align: right;\">\n",
       "      <th></th>\n",
       "      <th>yr</th>\n",
       "      <th>holiday</th>\n",
       "      <th>workingday</th>\n",
       "      <th>temp</th>\n",
       "      <th>hum</th>\n",
       "      <th>windspeed</th>\n",
       "      <th>cnt</th>\n",
       "      <th>summer</th>\n",
       "      <th>fall</th>\n",
       "      <th>winter</th>\n",
       "    </tr>\n",
       "  </thead>\n",
       "  <tbody>\n",
       "    <tr>\n",
       "      <th>184</th>\n",
       "      <td>0</td>\n",
       "      <td>1</td>\n",
       "      <td>0</td>\n",
       "      <td>29.79</td>\n",
       "      <td>63.79</td>\n",
       "      <td>5.46</td>\n",
       "      <td>6043</td>\n",
       "      <td>0</td>\n",
       "      <td>1</td>\n",
       "      <td>0</td>\n",
       "    </tr>\n",
       "    <tr>\n",
       "      <th>535</th>\n",
       "      <td>1</td>\n",
       "      <td>0</td>\n",
       "      <td>1</td>\n",
       "      <td>32.08</td>\n",
       "      <td>59.21</td>\n",
       "      <td>7.63</td>\n",
       "      <td>6211</td>\n",
       "      <td>1</td>\n",
       "      <td>0</td>\n",
       "      <td>0</td>\n",
       "    </tr>\n",
       "    <tr>\n",
       "      <th>299</th>\n",
       "      <td>0</td>\n",
       "      <td>0</td>\n",
       "      <td>1</td>\n",
       "      <td>19.27</td>\n",
       "      <td>81.29</td>\n",
       "      <td>13.25</td>\n",
       "      <td>2659</td>\n",
       "      <td>0</td>\n",
       "      <td>0</td>\n",
       "      <td>1</td>\n",
       "    </tr>\n",
       "    <tr>\n",
       "      <th>221</th>\n",
       "      <td>0</td>\n",
       "      <td>0</td>\n",
       "      <td>1</td>\n",
       "      <td>31.43</td>\n",
       "      <td>42.42</td>\n",
       "      <td>13.42</td>\n",
       "      <td>4780</td>\n",
       "      <td>0</td>\n",
       "      <td>1</td>\n",
       "      <td>0</td>\n",
       "    </tr>\n",
       "    <tr>\n",
       "      <th>152</th>\n",
       "      <td>0</td>\n",
       "      <td>0</td>\n",
       "      <td>1</td>\n",
       "      <td>29.32</td>\n",
       "      <td>30.50</td>\n",
       "      <td>19.58</td>\n",
       "      <td>4968</td>\n",
       "      <td>1</td>\n",
       "      <td>0</td>\n",
       "      <td>0</td>\n",
       "    </tr>\n",
       "  </tbody>\n",
       "</table>\n",
       "</div>"
      ],
      "text/plain": [
       "     yr  holiday  workingday  temp   hum  windspeed   cnt  summer  fall  \\\n",
       "184   0        1           0 29.79 63.79       5.46  6043       0     1   \n",
       "535   1        0           1 32.08 59.21       7.63  6211       1     0   \n",
       "299   0        0           1 19.27 81.29      13.25  2659       0     0   \n",
       "221   0        0           1 31.43 42.42      13.42  4780       0     1   \n",
       "152   0        0           1 29.32 30.50      19.58  4968       1     0   \n",
       "\n",
       "     winter  \n",
       "184       0  \n",
       "535       0  \n",
       "299       1  \n",
       "221       0  \n",
       "152       0  "
      ]
     },
     "execution_count": 31,
     "metadata": {},
     "output_type": "execute_result"
    }
   ],
   "source": [
    "test_data_copy_2.head()"
   ]
  },
  {
   "cell_type": "code",
   "execution_count": 32,
   "id": "8a3d9171",
   "metadata": {},
   "outputs": [
    {
     "data": {
      "text/html": [
       "<div>\n",
       "<style scoped>\n",
       "    .dataframe tbody tr th:only-of-type {\n",
       "        vertical-align: middle;\n",
       "    }\n",
       "\n",
       "    .dataframe tbody tr th {\n",
       "        vertical-align: top;\n",
       "    }\n",
       "\n",
       "    .dataframe thead th {\n",
       "        text-align: right;\n",
       "    }\n",
       "</style>\n",
       "<table border=\"1\" class=\"dataframe\">\n",
       "  <thead>\n",
       "    <tr style=\"text-align: right;\">\n",
       "      <th></th>\n",
       "      <th>yr</th>\n",
       "      <th>holiday</th>\n",
       "      <th>workingday</th>\n",
       "      <th>temp</th>\n",
       "      <th>hum</th>\n",
       "      <th>windspeed</th>\n",
       "      <th>cnt</th>\n",
       "      <th>summer</th>\n",
       "      <th>fall</th>\n",
       "      <th>winter</th>\n",
       "    </tr>\n",
       "  </thead>\n",
       "  <tbody>\n",
       "    <tr>\n",
       "      <th>184</th>\n",
       "      <td>0</td>\n",
       "      <td>1</td>\n",
       "      <td>0</td>\n",
       "      <td>0.83</td>\n",
       "      <td>0.66</td>\n",
       "      <td>0.08</td>\n",
       "      <td>0.69</td>\n",
       "      <td>0</td>\n",
       "      <td>1</td>\n",
       "      <td>0</td>\n",
       "    </tr>\n",
       "    <tr>\n",
       "      <th>535</th>\n",
       "      <td>1</td>\n",
       "      <td>0</td>\n",
       "      <td>1</td>\n",
       "      <td>0.90</td>\n",
       "      <td>0.61</td>\n",
       "      <td>0.15</td>\n",
       "      <td>0.71</td>\n",
       "      <td>1</td>\n",
       "      <td>0</td>\n",
       "      <td>0</td>\n",
       "    </tr>\n",
       "    <tr>\n",
       "      <th>299</th>\n",
       "      <td>0</td>\n",
       "      <td>0</td>\n",
       "      <td>1</td>\n",
       "      <td>0.51</td>\n",
       "      <td>0.84</td>\n",
       "      <td>0.33</td>\n",
       "      <td>0.30</td>\n",
       "      <td>0</td>\n",
       "      <td>0</td>\n",
       "      <td>1</td>\n",
       "    </tr>\n",
       "    <tr>\n",
       "      <th>221</th>\n",
       "      <td>0</td>\n",
       "      <td>0</td>\n",
       "      <td>1</td>\n",
       "      <td>0.88</td>\n",
       "      <td>0.44</td>\n",
       "      <td>0.34</td>\n",
       "      <td>0.55</td>\n",
       "      <td>0</td>\n",
       "      <td>1</td>\n",
       "      <td>0</td>\n",
       "    </tr>\n",
       "    <tr>\n",
       "      <th>152</th>\n",
       "      <td>0</td>\n",
       "      <td>0</td>\n",
       "      <td>1</td>\n",
       "      <td>0.82</td>\n",
       "      <td>0.31</td>\n",
       "      <td>0.54</td>\n",
       "      <td>0.57</td>\n",
       "      <td>1</td>\n",
       "      <td>0</td>\n",
       "      <td>0</td>\n",
       "    </tr>\n",
       "  </tbody>\n",
       "</table>\n",
       "</div>"
      ],
      "text/plain": [
       "     yr  holiday  workingday  temp  hum  windspeed  cnt  summer  fall  winter\n",
       "184   0        1           0  0.83 0.66       0.08 0.69       0     1       0\n",
       "535   1        0           1  0.90 0.61       0.15 0.71       1     0       0\n",
       "299   0        0           1  0.51 0.84       0.33 0.30       0     0       1\n",
       "221   0        0           1  0.88 0.44       0.34 0.55       0     1       0\n",
       "152   0        0           1  0.82 0.31       0.54 0.57       1     0       0"
      ]
     },
     "execution_count": 32,
     "metadata": {},
     "output_type": "execute_result"
    }
   ],
   "source": [
    "num_vars = ['temp','cnt','hum','windspeed']\n",
    "\n",
    "test_data_copy_2[num_vars] = scaler.transform(test_data_copy_2[num_vars])\n",
    "test_data_copy_2.head()"
   ]
  },
  {
   "cell_type": "code",
   "execution_count": 33,
   "id": "859d858f",
   "metadata": {},
   "outputs": [],
   "source": [
    "y_test_2 = test_data_copy_2.pop('cnt')\n",
    "X_test_2 = test_data_copy_2\n"
   ]
  },
  {
   "cell_type": "code",
   "execution_count": 34,
   "id": "d22e7ef9",
   "metadata": {},
   "outputs": [
    {
     "name": "stdout",
     "output_type": "stream",
     "text": [
      "R-score:  0.798\n"
     ]
    }
   ],
   "source": [
    "# Add a constant\n",
    "X_test_lm_2 = sm.add_constant(X_test_2)\n",
    "\n",
    "# Create a first fitted model\n",
    "y_test_2_pred = linear_model_3.predict(X_test_lm_2)\n",
    "\n",
    "\n",
    "print('R-score: ', round(r2_score(y_test_2, y_test_2_pred),3))"
   ]
  },
  {
   "cell_type": "code",
   "execution_count": 35,
   "id": "ad081b90",
   "metadata": {},
   "outputs": [
    {
     "data": {
      "text/plain": [
       "0.7885073086723066"
      ]
     },
     "execution_count": 35,
     "metadata": {},
     "output_type": "execute_result"
    }
   ],
   "source": [
    "adj_r2 = 1 - (1-r2_score(y_test_2, y_test_2_pred)) * (len(y_test_2)-1)/(len(y_test_2)-X_test_lm_2.shape[1]-1)\n",
    "adj_r2"
   ]
  },
  {
   "cell_type": "markdown",
   "id": "1955b324",
   "metadata": {},
   "source": [
    "### R-score of test:  0.798\n",
    "### adj R-score of test:  0.788"
   ]
  },
  {
   "cell_type": "markdown",
   "id": "0f1eb6da",
   "metadata": {},
   "source": [
    "###  Plotting of Residuals of test data set."
   ]
  },
  {
   "cell_type": "code",
   "execution_count": 36,
   "id": "4ef1c776",
   "metadata": {},
   "outputs": [
    {
     "data": {
      "text/plain": [
       "Text(0.5, 0, 'Errors')"
      ]
     },
     "execution_count": 36,
     "metadata": {},
     "output_type": "execute_result"
    },
    {
     "data": {
      "image/png": "[encoded data removed]",
      "text/plain": [
       "<Figure size 432x288 with 1 Axes>"
      ]
     },
     "metadata": {
      "needs_background": "light"
     },
     "output_type": "display_data"
    }
   ],
   "source": [
    "res = y_test_2 - y_test_2_pred\n",
    "\n",
    "fig = plt.figure()\n",
    "sns.distplot((res), bins = 20)\n",
    "fig.suptitle('Error Terms', fontsize = 20)\n",
    "plt.xlabel('Errors', fontsize = 18)"
   ]
  },
  {
   "cell_type": "markdown",
   "id": "7d423d59",
   "metadata": {},
   "source": [
    "### Conclusion\n",
    "\n",
    "### Model - 3 is reliable with good R-score"
   ]
  },
  {
   "cell_type": "code",
   "execution_count": null,
   "id": "4d716c69",
   "metadata": {},
   "outputs": [],
   "source": []
  },
  {
   "cell_type": "code",
   "execution_count": null,
   "id": "341d3926",
   "metadata": {},
   "outputs": [],
   "source": []
  },
  {
   "cell_type": "code",
   "execution_count": null,
   "id": "c27a2532",
   "metadata": {},
   "outputs": [],
   "source": []
  },
  {
   "cell_type": "markdown",
   "id": "3fbb4694",
   "metadata": {},
   "source": [
    "### Another Approach using RFE\n",
    "\n",
    "Here I have used RFE to eleminate fetaures."
   ]
  },
  {
   "cell_type": "code",
   "execution_count": 37,
   "id": "fa981567",
   "metadata": {},
   "outputs": [
    {
     "data": {
      "text/html": [
       "<div>\n",
       "<style scoped>\n",
       "    .dataframe tbody tr th:only-of-type {\n",
       "        vertical-align: middle;\n",
       "    }\n",
       "\n",
       "    .dataframe tbody tr th {\n",
       "        vertical-align: top;\n",
       "    }\n",
       "\n",
       "    .dataframe thead th {\n",
       "        text-align: right;\n",
       "    }\n",
       "</style>\n",
       "<table border=\"1\" class=\"dataframe\">\n",
       "  <thead>\n",
       "    <tr style=\"text-align: right;\">\n",
       "      <th></th>\n",
       "      <th>season</th>\n",
       "      <th>yr</th>\n",
       "      <th>mnth</th>\n",
       "      <th>holiday</th>\n",
       "      <th>weekday</th>\n",
       "      <th>workingday</th>\n",
       "      <th>weathersit</th>\n",
       "      <th>temp</th>\n",
       "      <th>atemp</th>\n",
       "      <th>hum</th>\n",
       "      <th>windspeed</th>\n",
       "      <th>cnt</th>\n",
       "    </tr>\n",
       "  </thead>\n",
       "  <tbody>\n",
       "    <tr>\n",
       "      <th>0</th>\n",
       "      <td>1</td>\n",
       "      <td>0</td>\n",
       "      <td>1</td>\n",
       "      <td>0</td>\n",
       "      <td>6</td>\n",
       "      <td>0</td>\n",
       "      <td>2</td>\n",
       "      <td>14.11</td>\n",
       "      <td>18.18</td>\n",
       "      <td>80.58</td>\n",
       "      <td>10.75</td>\n",
       "      <td>985</td>\n",
       "    </tr>\n",
       "    <tr>\n",
       "      <th>1</th>\n",
       "      <td>1</td>\n",
       "      <td>0</td>\n",
       "      <td>1</td>\n",
       "      <td>0</td>\n",
       "      <td>0</td>\n",
       "      <td>0</td>\n",
       "      <td>2</td>\n",
       "      <td>14.90</td>\n",
       "      <td>17.69</td>\n",
       "      <td>69.61</td>\n",
       "      <td>16.65</td>\n",
       "      <td>801</td>\n",
       "    </tr>\n",
       "    <tr>\n",
       "      <th>2</th>\n",
       "      <td>1</td>\n",
       "      <td>0</td>\n",
       "      <td>1</td>\n",
       "      <td>0</td>\n",
       "      <td>1</td>\n",
       "      <td>1</td>\n",
       "      <td>1</td>\n",
       "      <td>8.05</td>\n",
       "      <td>9.47</td>\n",
       "      <td>43.73</td>\n",
       "      <td>16.64</td>\n",
       "      <td>1349</td>\n",
       "    </tr>\n",
       "    <tr>\n",
       "      <th>3</th>\n",
       "      <td>1</td>\n",
       "      <td>0</td>\n",
       "      <td>1</td>\n",
       "      <td>0</td>\n",
       "      <td>2</td>\n",
       "      <td>1</td>\n",
       "      <td>1</td>\n",
       "      <td>8.20</td>\n",
       "      <td>10.61</td>\n",
       "      <td>59.04</td>\n",
       "      <td>10.74</td>\n",
       "      <td>1562</td>\n",
       "    </tr>\n",
       "    <tr>\n",
       "      <th>4</th>\n",
       "      <td>1</td>\n",
       "      <td>0</td>\n",
       "      <td>1</td>\n",
       "      <td>0</td>\n",
       "      <td>3</td>\n",
       "      <td>1</td>\n",
       "      <td>1</td>\n",
       "      <td>9.31</td>\n",
       "      <td>11.46</td>\n",
       "      <td>43.70</td>\n",
       "      <td>12.52</td>\n",
       "      <td>1600</td>\n",
       "    </tr>\n",
       "  </tbody>\n",
       "</table>\n",
       "</div>"
      ],
      "text/plain": [
       "   season  yr  mnth  holiday  weekday  workingday  weathersit  temp  atemp  \\\n",
       "0       1   0     1        0        6           0           2 14.11  18.18   \n",
       "1       1   0     1        0        0           0           2 14.90  17.69   \n",
       "2       1   0     1        0        1           1           1  8.05   9.47   \n",
       "3       1   0     1        0        2           1           1  8.20  10.61   \n",
       "4       1   0     1        0        3           1           1  9.31  11.46   \n",
       "\n",
       "    hum  windspeed   cnt  \n",
       "0 80.58      10.75   985  \n",
       "1 69.61      16.65   801  \n",
       "2 43.73      16.64  1349  \n",
       "3 59.04      10.74  1562  \n",
       "4 43.70      12.52  1600  "
      ]
     },
     "execution_count": 37,
     "metadata": {},
     "output_type": "execute_result"
    }
   ],
   "source": [
    "data_copy_1 = data[:]\n",
    "data_copy_1.head()"
   ]
  },
  {
   "cell_type": "code",
   "execution_count": 38,
   "id": "ab8172be",
   "metadata": {
    "scrolled": false
   },
   "outputs": [
    {
     "name": "stdout",
     "output_type": "stream",
     "text": [
      "season :   [1 2 3 4]\n",
      "yr :   [0 1]\n",
      "mnth :   [ 1  2  3  4  5  6  7  8  9 10 11 12]\n",
      "holiday :   [0 1]\n",
      "weekday :   [6 0 1 2 3 4 5]\n",
      "workingday :   [0 1]\n",
      "weathersit :   [2 1 3]\n"
     ]
    }
   ],
   "source": [
    "# Checking unique values of categorical variables\n",
    "\n",
    "var_list = ['season', 'yr', 'mnth', 'holiday', 'weekday', 'workingday',\n",
    "       'weathersit' ]\n",
    "\n",
    "for var in var_list:\n",
    "    print(var ,':  ' ,data[var].unique())"
   ]
  },
  {
   "cell_type": "code",
   "execution_count": 39,
   "id": "1e382fd1",
   "metadata": {},
   "outputs": [
    {
     "data": {
      "text/html": [
       "<div>\n",
       "<style scoped>\n",
       "    .dataframe tbody tr th:only-of-type {\n",
       "        vertical-align: middle;\n",
       "    }\n",
       "\n",
       "    .dataframe tbody tr th {\n",
       "        vertical-align: top;\n",
       "    }\n",
       "\n",
       "    .dataframe thead th {\n",
       "        text-align: right;\n",
       "    }\n",
       "</style>\n",
       "<table border=\"1\" class=\"dataframe\">\n",
       "  <thead>\n",
       "    <tr style=\"text-align: right;\">\n",
       "      <th></th>\n",
       "      <th>season</th>\n",
       "      <th>yr</th>\n",
       "      <th>mnth</th>\n",
       "      <th>holiday</th>\n",
       "      <th>weekday</th>\n",
       "      <th>workingday</th>\n",
       "      <th>weathersit</th>\n",
       "      <th>temp</th>\n",
       "      <th>atemp</th>\n",
       "      <th>hum</th>\n",
       "      <th>...</th>\n",
       "      <th>nov</th>\n",
       "      <th>dec</th>\n",
       "      <th>tues</th>\n",
       "      <th>weds</th>\n",
       "      <th>thurs</th>\n",
       "      <th>fri</th>\n",
       "      <th>sat</th>\n",
       "      <th>sun</th>\n",
       "      <th>mist</th>\n",
       "      <th>light_snow</th>\n",
       "    </tr>\n",
       "  </thead>\n",
       "  <tbody>\n",
       "    <tr>\n",
       "      <th>0</th>\n",
       "      <td>spring</td>\n",
       "      <td>0</td>\n",
       "      <td>jan</td>\n",
       "      <td>0</td>\n",
       "      <td>sun</td>\n",
       "      <td>0</td>\n",
       "      <td>mist</td>\n",
       "      <td>14.11</td>\n",
       "      <td>18.18</td>\n",
       "      <td>80.58</td>\n",
       "      <td>...</td>\n",
       "      <td>0</td>\n",
       "      <td>0</td>\n",
       "      <td>0</td>\n",
       "      <td>0</td>\n",
       "      <td>0</td>\n",
       "      <td>0</td>\n",
       "      <td>0</td>\n",
       "      <td>1</td>\n",
       "      <td>1</td>\n",
       "      <td>0</td>\n",
       "    </tr>\n",
       "    <tr>\n",
       "      <th>1</th>\n",
       "      <td>spring</td>\n",
       "      <td>0</td>\n",
       "      <td>jan</td>\n",
       "      <td>0</td>\n",
       "      <td>mon</td>\n",
       "      <td>0</td>\n",
       "      <td>mist</td>\n",
       "      <td>14.90</td>\n",
       "      <td>17.69</td>\n",
       "      <td>69.61</td>\n",
       "      <td>...</td>\n",
       "      <td>0</td>\n",
       "      <td>0</td>\n",
       "      <td>0</td>\n",
       "      <td>0</td>\n",
       "      <td>0</td>\n",
       "      <td>0</td>\n",
       "      <td>0</td>\n",
       "      <td>0</td>\n",
       "      <td>1</td>\n",
       "      <td>0</td>\n",
       "    </tr>\n",
       "    <tr>\n",
       "      <th>2</th>\n",
       "      <td>spring</td>\n",
       "      <td>0</td>\n",
       "      <td>jan</td>\n",
       "      <td>0</td>\n",
       "      <td>tues</td>\n",
       "      <td>1</td>\n",
       "      <td>clear</td>\n",
       "      <td>8.05</td>\n",
       "      <td>9.47</td>\n",
       "      <td>43.73</td>\n",
       "      <td>...</td>\n",
       "      <td>0</td>\n",
       "      <td>0</td>\n",
       "      <td>1</td>\n",
       "      <td>0</td>\n",
       "      <td>0</td>\n",
       "      <td>0</td>\n",
       "      <td>0</td>\n",
       "      <td>0</td>\n",
       "      <td>0</td>\n",
       "      <td>0</td>\n",
       "    </tr>\n",
       "    <tr>\n",
       "      <th>3</th>\n",
       "      <td>spring</td>\n",
       "      <td>0</td>\n",
       "      <td>jan</td>\n",
       "      <td>0</td>\n",
       "      <td>weds</td>\n",
       "      <td>1</td>\n",
       "      <td>clear</td>\n",
       "      <td>8.20</td>\n",
       "      <td>10.61</td>\n",
       "      <td>59.04</td>\n",
       "      <td>...</td>\n",
       "      <td>0</td>\n",
       "      <td>0</td>\n",
       "      <td>0</td>\n",
       "      <td>1</td>\n",
       "      <td>0</td>\n",
       "      <td>0</td>\n",
       "      <td>0</td>\n",
       "      <td>0</td>\n",
       "      <td>0</td>\n",
       "      <td>0</td>\n",
       "    </tr>\n",
       "    <tr>\n",
       "      <th>4</th>\n",
       "      <td>spring</td>\n",
       "      <td>0</td>\n",
       "      <td>jan</td>\n",
       "      <td>0</td>\n",
       "      <td>thurs</td>\n",
       "      <td>1</td>\n",
       "      <td>clear</td>\n",
       "      <td>9.31</td>\n",
       "      <td>11.46</td>\n",
       "      <td>43.70</td>\n",
       "      <td>...</td>\n",
       "      <td>0</td>\n",
       "      <td>0</td>\n",
       "      <td>0</td>\n",
       "      <td>0</td>\n",
       "      <td>1</td>\n",
       "      <td>0</td>\n",
       "      <td>0</td>\n",
       "      <td>0</td>\n",
       "      <td>0</td>\n",
       "      <td>0</td>\n",
       "    </tr>\n",
       "  </tbody>\n",
       "</table>\n",
       "<p>5 rows × 34 columns</p>\n",
       "</div>"
      ],
      "text/plain": [
       "   season  yr mnth  holiday weekday  workingday weathersit  temp  atemp   hum  \\\n",
       "0  spring   0  jan        0     sun           0       mist 14.11  18.18 80.58   \n",
       "1  spring   0  jan        0     mon           0       mist 14.90  17.69 69.61   \n",
       "2  spring   0  jan        0    tues           1      clear  8.05   9.47 43.73   \n",
       "3  spring   0  jan        0    weds           1      clear  8.20  10.61 59.04   \n",
       "4  spring   0  jan        0   thurs           1      clear  9.31  11.46 43.70   \n",
       "\n",
       "   ...  nov  dec  tues  weds  thurs  fri  sat  sun  mist  light_snow  \n",
       "0  ...    0    0     0     0      0    0    0    1     1           0  \n",
       "1  ...    0    0     0     0      0    0    0    0     1           0  \n",
       "2  ...    0    0     1     0      0    0    0    0     0           0  \n",
       "3  ...    0    0     0     1      0    0    0    0     0           0  \n",
       "4  ...    0    0     0     0      1    0    0    0     0           0  \n",
       "\n",
       "[5 rows x 34 columns]"
      ]
     },
     "execution_count": 39,
     "metadata": {},
     "output_type": "execute_result"
    }
   ],
   "source": [
    "#Converting numeric categorical to string categorical\n",
    "\n",
    "data_copy_1['season'] = data_copy_1['season'].astype('category')\n",
    "data_copy_1['season'] = data_copy_1['season'].cat.rename_categories(['spring', 'summer', 'fall','winter'])\n",
    "\n",
    "dummy_season = pd.get_dummies(data_copy_1['season'], drop_first = True)\n",
    "data_copy_1 = pd.concat([data_copy_1, dummy_season], axis = 1)\n",
    "\n",
    "data_copy_1['mnth'] = data_copy_1['mnth'].astype('category')\n",
    "data_copy_1['mnth'] = data_copy_1['mnth'].cat.rename_categories(['jan', 'feb', 'mar','apr',\n",
    "                                                  'may','jun','jul','aug','sept','oct',\n",
    "                                                  'nov','dec'])\n",
    "\n",
    "\n",
    "dummy_mnth = pd.get_dummies(data_copy_1['mnth'], drop_first = True)\n",
    "data_copy_1 = pd.concat([data_copy_1, dummy_mnth], axis = 1)\n",
    "\n",
    "data_copy_1['weekday'] = data_copy_1['weekday'].astype('category')\n",
    "data_copy_1['weekday'] = data_copy_1['weekday'].cat.rename_categories(['mon', 'tues', 'weds','thurs',\n",
    "                                                  'fri','sat','sun'])\n",
    "\n",
    "\n",
    "dummy_weekday = pd.get_dummies(data_copy_1['weekday'], drop_first = True)\n",
    "data_copy_1 = pd.concat([data_copy_1, dummy_weekday], axis = 1)\n",
    "\n",
    "data_copy_1['weathersit'] = data_copy_1['weathersit'].astype('category')\n",
    "data_copy_1['weathersit'] = data_copy_1['weathersit'].cat.rename_categories(['clear', 'mist', 'light_snow'])\n",
    "\n",
    "dummy_weathersit = pd.get_dummies(data_copy_1['weathersit'], drop_first = True)\n",
    "data_copy_1 = pd.concat([data_copy_1, dummy_weathersit], axis = 1)\n",
    "\n",
    "data_copy_1.head()"
   ]
  },
  {
   "cell_type": "code",
   "execution_count": 40,
   "id": "28fe8f09",
   "metadata": {},
   "outputs": [],
   "source": [
    "#Dropping redundent variables\n",
    "data_copy_1.drop(['season','mnth','weekday','weathersit'], axis=1, inplace =True)"
   ]
  },
  {
   "cell_type": "code",
   "execution_count": 41,
   "id": "b45d036c",
   "metadata": {},
   "outputs": [
    {
     "data": {
      "text/html": [
       "<div>\n",
       "<style scoped>\n",
       "    .dataframe tbody tr th:only-of-type {\n",
       "        vertical-align: middle;\n",
       "    }\n",
       "\n",
       "    .dataframe tbody tr th {\n",
       "        vertical-align: top;\n",
       "    }\n",
       "\n",
       "    .dataframe thead th {\n",
       "        text-align: right;\n",
       "    }\n",
       "</style>\n",
       "<table border=\"1\" class=\"dataframe\">\n",
       "  <thead>\n",
       "    <tr style=\"text-align: right;\">\n",
       "      <th></th>\n",
       "      <th>yr</th>\n",
       "      <th>holiday</th>\n",
       "      <th>workingday</th>\n",
       "      <th>temp</th>\n",
       "      <th>atemp</th>\n",
       "      <th>hum</th>\n",
       "      <th>windspeed</th>\n",
       "      <th>cnt</th>\n",
       "      <th>summer</th>\n",
       "      <th>fall</th>\n",
       "      <th>...</th>\n",
       "      <th>nov</th>\n",
       "      <th>dec</th>\n",
       "      <th>tues</th>\n",
       "      <th>weds</th>\n",
       "      <th>thurs</th>\n",
       "      <th>fri</th>\n",
       "      <th>sat</th>\n",
       "      <th>sun</th>\n",
       "      <th>mist</th>\n",
       "      <th>light_snow</th>\n",
       "    </tr>\n",
       "  </thead>\n",
       "  <tbody>\n",
       "    <tr>\n",
       "      <th>0</th>\n",
       "      <td>0</td>\n",
       "      <td>0</td>\n",
       "      <td>0</td>\n",
       "      <td>14.11</td>\n",
       "      <td>18.18</td>\n",
       "      <td>80.58</td>\n",
       "      <td>10.75</td>\n",
       "      <td>985</td>\n",
       "      <td>0</td>\n",
       "      <td>0</td>\n",
       "      <td>...</td>\n",
       "      <td>0</td>\n",
       "      <td>0</td>\n",
       "      <td>0</td>\n",
       "      <td>0</td>\n",
       "      <td>0</td>\n",
       "      <td>0</td>\n",
       "      <td>0</td>\n",
       "      <td>1</td>\n",
       "      <td>1</td>\n",
       "      <td>0</td>\n",
       "    </tr>\n",
       "    <tr>\n",
       "      <th>1</th>\n",
       "      <td>0</td>\n",
       "      <td>0</td>\n",
       "      <td>0</td>\n",
       "      <td>14.90</td>\n",
       "      <td>17.69</td>\n",
       "      <td>69.61</td>\n",
       "      <td>16.65</td>\n",
       "      <td>801</td>\n",
       "      <td>0</td>\n",
       "      <td>0</td>\n",
       "      <td>...</td>\n",
       "      <td>0</td>\n",
       "      <td>0</td>\n",
       "      <td>0</td>\n",
       "      <td>0</td>\n",
       "      <td>0</td>\n",
       "      <td>0</td>\n",
       "      <td>0</td>\n",
       "      <td>0</td>\n",
       "      <td>1</td>\n",
       "      <td>0</td>\n",
       "    </tr>\n",
       "    <tr>\n",
       "      <th>2</th>\n",
       "      <td>0</td>\n",
       "      <td>0</td>\n",
       "      <td>1</td>\n",
       "      <td>8.05</td>\n",
       "      <td>9.47</td>\n",
       "      <td>43.73</td>\n",
       "      <td>16.64</td>\n",
       "      <td>1349</td>\n",
       "      <td>0</td>\n",
       "      <td>0</td>\n",
       "      <td>...</td>\n",
       "      <td>0</td>\n",
       "      <td>0</td>\n",
       "      <td>1</td>\n",
       "      <td>0</td>\n",
       "      <td>0</td>\n",
       "      <td>0</td>\n",
       "      <td>0</td>\n",
       "      <td>0</td>\n",
       "      <td>0</td>\n",
       "      <td>0</td>\n",
       "    </tr>\n",
       "    <tr>\n",
       "      <th>3</th>\n",
       "      <td>0</td>\n",
       "      <td>0</td>\n",
       "      <td>1</td>\n",
       "      <td>8.20</td>\n",
       "      <td>10.61</td>\n",
       "      <td>59.04</td>\n",
       "      <td>10.74</td>\n",
       "      <td>1562</td>\n",
       "      <td>0</td>\n",
       "      <td>0</td>\n",
       "      <td>...</td>\n",
       "      <td>0</td>\n",
       "      <td>0</td>\n",
       "      <td>0</td>\n",
       "      <td>1</td>\n",
       "      <td>0</td>\n",
       "      <td>0</td>\n",
       "      <td>0</td>\n",
       "      <td>0</td>\n",
       "      <td>0</td>\n",
       "      <td>0</td>\n",
       "    </tr>\n",
       "    <tr>\n",
       "      <th>4</th>\n",
       "      <td>0</td>\n",
       "      <td>0</td>\n",
       "      <td>1</td>\n",
       "      <td>9.31</td>\n",
       "      <td>11.46</td>\n",
       "      <td>43.70</td>\n",
       "      <td>12.52</td>\n",
       "      <td>1600</td>\n",
       "      <td>0</td>\n",
       "      <td>0</td>\n",
       "      <td>...</td>\n",
       "      <td>0</td>\n",
       "      <td>0</td>\n",
       "      <td>0</td>\n",
       "      <td>0</td>\n",
       "      <td>1</td>\n",
       "      <td>0</td>\n",
       "      <td>0</td>\n",
       "      <td>0</td>\n",
       "      <td>0</td>\n",
       "      <td>0</td>\n",
       "    </tr>\n",
       "  </tbody>\n",
       "</table>\n",
       "<p>5 rows × 30 columns</p>\n",
       "</div>"
      ],
      "text/plain": [
       "   yr  holiday  workingday  temp  atemp   hum  windspeed   cnt  summer  fall  \\\n",
       "0   0        0           0 14.11  18.18 80.58      10.75   985       0     0   \n",
       "1   0        0           0 14.90  17.69 69.61      16.65   801       0     0   \n",
       "2   0        0           1  8.05   9.47 43.73      16.64  1349       0     0   \n",
       "3   0        0           1  8.20  10.61 59.04      10.74  1562       0     0   \n",
       "4   0        0           1  9.31  11.46 43.70      12.52  1600       0     0   \n",
       "\n",
       "   ...  nov  dec  tues  weds  thurs  fri  sat  sun  mist  light_snow  \n",
       "0  ...    0    0     0     0      0    0    0    1     1           0  \n",
       "1  ...    0    0     0     0      0    0    0    0     1           0  \n",
       "2  ...    0    0     1     0      0    0    0    0     0           0  \n",
       "3  ...    0    0     0     1      0    0    0    0     0           0  \n",
       "4  ...    0    0     0     0      1    0    0    0     0           0  \n",
       "\n",
       "[5 rows x 30 columns]"
      ]
     },
     "execution_count": 41,
     "metadata": {},
     "output_type": "execute_result"
    }
   ],
   "source": [
    "data_copy_1.head()"
   ]
  },
  {
   "cell_type": "code",
   "execution_count": 42,
   "id": "81ffe9c2",
   "metadata": {},
   "outputs": [
    {
     "data": {
      "image/png": "[encoded data removed]",
      "text/plain": [
       "<Figure size 1296x576 with 1 Axes>"
      ]
     },
     "metadata": {
      "needs_background": "light"
     },
     "output_type": "display_data"
    }
   ],
   "source": [
    "plt.figure(figsize=(18,8))\n",
    "data_copy_1.corrwith(data_copy_1['cnt']).plot.bar().grid(True)"
   ]
  },
  {
   "cell_type": "code",
   "execution_count": 43,
   "id": "2f0f457e",
   "metadata": {},
   "outputs": [],
   "source": [
    "#separating Independent and dependent variables\n",
    "\n",
    "y_train_1 = data_copy_1.pop('cnt')\n",
    "X_train_1 = data_copy_1"
   ]
  },
  {
   "cell_type": "code",
   "execution_count": 44,
   "id": "be334748",
   "metadata": {},
   "outputs": [],
   "source": [
    "from sklearn.feature_selection import RFE\n",
    "from sklearn.linear_model import LinearRegression"
   ]
  },
  {
   "cell_type": "code",
   "execution_count": 45,
   "id": "48ca24ad",
   "metadata": {},
   "outputs": [],
   "source": [
    "# Running RFE \n",
    "rfe_model = LinearRegression()\n",
    "rfe_model.fit(X_train_1, y_train_1)\n",
    "\n",
    "\n",
    "# Arround 15 variables have good correlation value, So we filter 15 variables for the data\n",
    "rfe = RFE(rfe_model, 15)             \n",
    "rfe = rfe.fit(X_train_1, y_train_1)"
   ]
  },
  {
   "cell_type": "code",
   "execution_count": 46,
   "id": "92f6bade",
   "metadata": {},
   "outputs": [
    {
     "data": {
      "text/plain": [
       "Index(['yr', 'summer', 'fall', 'winter', 'mar', 'apr', 'may', 'jun', 'jul',\n",
       "       'aug', 'sept', 'oct', 'sun', 'mist', 'light_snow'],\n",
       "      dtype='object')"
      ]
     },
     "execution_count": 46,
     "metadata": {},
     "output_type": "execute_result"
    }
   ],
   "source": [
    "col = X_train_1.columns[rfe.support_]\n",
    "col"
   ]
  },
  {
   "cell_type": "code",
   "execution_count": 47,
   "id": "6d26f87c",
   "metadata": {},
   "outputs": [],
   "source": [
    "X_train_1_rfe = X_train_1[col]"
   ]
  },
  {
   "cell_type": "code",
   "execution_count": 48,
   "id": "11ce4b6c",
   "metadata": {},
   "outputs": [
    {
     "data": {
      "text/html": [
       "<div>\n",
       "<style scoped>\n",
       "    .dataframe tbody tr th:only-of-type {\n",
       "        vertical-align: middle;\n",
       "    }\n",
       "\n",
       "    .dataframe tbody tr th {\n",
       "        vertical-align: top;\n",
       "    }\n",
       "\n",
       "    .dataframe thead th {\n",
       "        text-align: right;\n",
       "    }\n",
       "</style>\n",
       "<table border=\"1\" class=\"dataframe\">\n",
       "  <thead>\n",
       "    <tr style=\"text-align: right;\">\n",
       "      <th></th>\n",
       "      <th>yr</th>\n",
       "      <th>summer</th>\n",
       "      <th>fall</th>\n",
       "      <th>winter</th>\n",
       "      <th>mar</th>\n",
       "      <th>apr</th>\n",
       "      <th>may</th>\n",
       "      <th>jun</th>\n",
       "      <th>jul</th>\n",
       "      <th>aug</th>\n",
       "      <th>sept</th>\n",
       "      <th>oct</th>\n",
       "      <th>sun</th>\n",
       "      <th>mist</th>\n",
       "      <th>light_snow</th>\n",
       "    </tr>\n",
       "  </thead>\n",
       "  <tbody>\n",
       "    <tr>\n",
       "      <th>0</th>\n",
       "      <td>0</td>\n",
       "      <td>0</td>\n",
       "      <td>0</td>\n",
       "      <td>0</td>\n",
       "      <td>0</td>\n",
       "      <td>0</td>\n",
       "      <td>0</td>\n",
       "      <td>0</td>\n",
       "      <td>0</td>\n",
       "      <td>0</td>\n",
       "      <td>0</td>\n",
       "      <td>0</td>\n",
       "      <td>1</td>\n",
       "      <td>1</td>\n",
       "      <td>0</td>\n",
       "    </tr>\n",
       "    <tr>\n",
       "      <th>1</th>\n",
       "      <td>0</td>\n",
       "      <td>0</td>\n",
       "      <td>0</td>\n",
       "      <td>0</td>\n",
       "      <td>0</td>\n",
       "      <td>0</td>\n",
       "      <td>0</td>\n",
       "      <td>0</td>\n",
       "      <td>0</td>\n",
       "      <td>0</td>\n",
       "      <td>0</td>\n",
       "      <td>0</td>\n",
       "      <td>0</td>\n",
       "      <td>1</td>\n",
       "      <td>0</td>\n",
       "    </tr>\n",
       "    <tr>\n",
       "      <th>2</th>\n",
       "      <td>0</td>\n",
       "      <td>0</td>\n",
       "      <td>0</td>\n",
       "      <td>0</td>\n",
       "      <td>0</td>\n",
       "      <td>0</td>\n",
       "      <td>0</td>\n",
       "      <td>0</td>\n",
       "      <td>0</td>\n",
       "      <td>0</td>\n",
       "      <td>0</td>\n",
       "      <td>0</td>\n",
       "      <td>0</td>\n",
       "      <td>0</td>\n",
       "      <td>0</td>\n",
       "    </tr>\n",
       "    <tr>\n",
       "      <th>3</th>\n",
       "      <td>0</td>\n",
       "      <td>0</td>\n",
       "      <td>0</td>\n",
       "      <td>0</td>\n",
       "      <td>0</td>\n",
       "      <td>0</td>\n",
       "      <td>0</td>\n",
       "      <td>0</td>\n",
       "      <td>0</td>\n",
       "      <td>0</td>\n",
       "      <td>0</td>\n",
       "      <td>0</td>\n",
       "      <td>0</td>\n",
       "      <td>0</td>\n",
       "      <td>0</td>\n",
       "    </tr>\n",
       "    <tr>\n",
       "      <th>4</th>\n",
       "      <td>0</td>\n",
       "      <td>0</td>\n",
       "      <td>0</td>\n",
       "      <td>0</td>\n",
       "      <td>0</td>\n",
       "      <td>0</td>\n",
       "      <td>0</td>\n",
       "      <td>0</td>\n",
       "      <td>0</td>\n",
       "      <td>0</td>\n",
       "      <td>0</td>\n",
       "      <td>0</td>\n",
       "      <td>0</td>\n",
       "      <td>0</td>\n",
       "      <td>0</td>\n",
       "    </tr>\n",
       "  </tbody>\n",
       "</table>\n",
       "</div>"
      ],
      "text/plain": [
       "   yr  summer  fall  winter  mar  apr  may  jun  jul  aug  sept  oct  sun  \\\n",
       "0   0       0     0       0    0    0    0    0    0    0     0    0    1   \n",
       "1   0       0     0       0    0    0    0    0    0    0     0    0    0   \n",
       "2   0       0     0       0    0    0    0    0    0    0     0    0    0   \n",
       "3   0       0     0       0    0    0    0    0    0    0     0    0    0   \n",
       "4   0       0     0       0    0    0    0    0    0    0     0    0    0   \n",
       "\n",
       "   mist  light_snow  \n",
       "0     1           0  \n",
       "1     1           0  \n",
       "2     0           0  \n",
       "3     0           0  \n",
       "4     0           0  "
      ]
     },
     "execution_count": 48,
     "metadata": {},
     "output_type": "execute_result"
    }
   ],
   "source": [
    "X_train_1_rfe.head()"
   ]
  },
  {
   "cell_type": "code",
   "execution_count": 49,
   "id": "aa541be5",
   "metadata": {},
   "outputs": [
    {
     "data": {
      "text/html": [
       "<table class=\"simpletable\">\n",
       "<caption>OLS Regression Results</caption>\n",
       "<tr>\n",
       "  <th>Dep. Variable:</th>           <td>cnt</td>       <th>  R-squared:         </th> <td>   0.801</td> \n",
       "</tr>\n",
       "<tr>\n",
       "  <th>Model:</th>                   <td>OLS</td>       <th>  Adj. R-squared:    </th> <td>   0.797</td> \n",
       "</tr>\n",
       "<tr>\n",
       "  <th>Method:</th>             <td>Least Squares</td>  <th>  F-statistic:       </th> <td>   191.7</td> \n",
       "</tr>\n",
       "<tr>\n",
       "  <th>Date:</th>             <td>Mon, 30 Aug 2021</td> <th>  Prob (F-statistic):</th> <td>2.32e-238</td>\n",
       "</tr>\n",
       "<tr>\n",
       "  <th>Time:</th>                 <td>07:47:51</td>     <th>  Log-Likelihood:    </th> <td> -5970.9</td> \n",
       "</tr>\n",
       "<tr>\n",
       "  <th>No. Observations:</th>      <td>   730</td>      <th>  AIC:               </th> <td>1.197e+04</td>\n",
       "</tr>\n",
       "<tr>\n",
       "  <th>Df Residuals:</th>          <td>   714</td>      <th>  BIC:               </th> <td>1.205e+04</td>\n",
       "</tr>\n",
       "<tr>\n",
       "  <th>Df Model:</th>              <td>    15</td>      <th>                     </th>     <td> </td>    \n",
       "</tr>\n",
       "<tr>\n",
       "  <th>Covariance Type:</th>      <td>nonrobust</td>    <th>                     </th>     <td> </td>    \n",
       "</tr>\n",
       "</table>\n",
       "<table class=\"simpletable\">\n",
       "<tr>\n",
       "       <td></td>         <th>coef</th>     <th>std err</th>      <th>t</th>      <th>P>|t|</th>  <th>[0.025</th>    <th>0.975]</th>  \n",
       "</tr>\n",
       "<tr>\n",
       "  <th>const</th>      <td> 1600.1658</td> <td>   85.337</td> <td>   18.751</td> <td> 0.000</td> <td> 1432.625</td> <td> 1767.707</td>\n",
       "</tr>\n",
       "<tr>\n",
       "  <th>yr</th>         <td> 2138.2489</td> <td>   64.776</td> <td>   33.010</td> <td> 0.000</td> <td> 2011.074</td> <td> 2265.424</td>\n",
       "</tr>\n",
       "<tr>\n",
       "  <th>summer</th>     <td>  904.5139</td> <td>  196.295</td> <td>    4.608</td> <td> 0.000</td> <td>  519.130</td> <td> 1289.898</td>\n",
       "</tr>\n",
       "<tr>\n",
       "  <th>fall</th>       <td> 1167.1693</td> <td>  214.303</td> <td>    5.446</td> <td> 0.000</td> <td>  746.429</td> <td> 1587.909</td>\n",
       "</tr>\n",
       "<tr>\n",
       "  <th>winter</th>     <td> 1846.7773</td> <td>  110.336</td> <td>   16.738</td> <td> 0.000</td> <td> 1630.156</td> <td> 2063.398</td>\n",
       "</tr>\n",
       "<tr>\n",
       "  <th>mar</th>        <td> 1037.6498</td> <td>  145.945</td> <td>    7.110</td> <td> 0.000</td> <td>  751.117</td> <td> 1324.183</td>\n",
       "</tr>\n",
       "<tr>\n",
       "  <th>apr</th>        <td> 1223.0895</td> <td>  231.074</td> <td>    5.293</td> <td> 0.000</td> <td>  769.424</td> <td> 1676.755</td>\n",
       "</tr>\n",
       "<tr>\n",
       "  <th>may</th>        <td> 2042.5701</td> <td>  230.366</td> <td>    8.867</td> <td> 0.000</td> <td> 1590.294</td> <td> 2494.847</td>\n",
       "</tr>\n",
       "<tr>\n",
       "  <th>jun</th>        <td> 2256.9288</td> <td>  214.888</td> <td>   10.503</td> <td> 0.000</td> <td> 1835.041</td> <td> 2678.817</td>\n",
       "</tr>\n",
       "<tr>\n",
       "  <th>jul</th>        <td> 1864.5152</td> <td>  239.210</td> <td>    7.794</td> <td> 0.000</td> <td> 1394.877</td> <td> 2334.154</td>\n",
       "</tr>\n",
       "<tr>\n",
       "  <th>aug</th>        <td> 2027.1415</td> <td>  239.224</td> <td>    8.474</td> <td> 0.000</td> <td> 1557.475</td> <td> 2496.808</td>\n",
       "</tr>\n",
       "<tr>\n",
       "  <th>sept</th>       <td> 2138.0543</td> <td>  197.803</td> <td>   10.809</td> <td> 0.000</td> <td> 1749.710</td> <td> 2526.399</td>\n",
       "</tr>\n",
       "<tr>\n",
       "  <th>oct</th>        <td> 1153.1286</td> <td>  140.234</td> <td>    8.223</td> <td> 0.000</td> <td>  877.809</td> <td> 1428.448</td>\n",
       "</tr>\n",
       "<tr>\n",
       "  <th>sun</th>        <td>  110.8999</td> <td>   92.077</td> <td>    1.204</td> <td> 0.229</td> <td>  -69.874</td> <td>  291.674</td>\n",
       "</tr>\n",
       "<tr>\n",
       "  <th>mist</th>       <td> -696.6562</td> <td>   69.908</td> <td>   -9.965</td> <td> 0.000</td> <td> -833.906</td> <td> -559.406</td>\n",
       "</tr>\n",
       "<tr>\n",
       "  <th>light_snow</th> <td>-2543.9698</td> <td>  197.768</td> <td>  -12.863</td> <td> 0.000</td> <td>-2932.246</td> <td>-2155.694</td>\n",
       "</tr>\n",
       "</table>\n",
       "<table class=\"simpletable\">\n",
       "<tr>\n",
       "  <th>Omnibus:</th>       <td>129.472</td> <th>  Durbin-Watson:     </th> <td>   1.147</td>\n",
       "</tr>\n",
       "<tr>\n",
       "  <th>Prob(Omnibus):</th> <td> 0.000</td>  <th>  Jarque-Bera (JB):  </th> <td> 433.801</td>\n",
       "</tr>\n",
       "<tr>\n",
       "  <th>Skew:</th>          <td>-0.827</td>  <th>  Prob(JB):          </th> <td>6.33e-95</td>\n",
       "</tr>\n",
       "<tr>\n",
       "  <th>Kurtosis:</th>      <td> 6.395</td>  <th>  Cond. No.          </th> <td>    20.5</td>\n",
       "</tr>\n",
       "</table><br/><br/>Notes:<br/>[1] Standard Errors assume that the covariance matrix of the errors is correctly specified."
      ],
      "text/plain": [
       "<class 'statsmodels.iolib.summary.Summary'>\n",
       "\"\"\"\n",
       "                            OLS Regression Results                            \n",
       "==============================================================================\n",
       "Dep. Variable:                    cnt   R-squared:                       0.801\n",
       "Model:                            OLS   Adj. R-squared:                  0.797\n",
       "Method:                 Least Squares   F-statistic:                     191.7\n",
       "Date:                Mon, 30 Aug 2021   Prob (F-statistic):          2.32e-238\n",
       "Time:                        07:47:51   Log-Likelihood:                -5970.9\n",
       "No. Observations:                 730   AIC:                         1.197e+04\n",
       "Df Residuals:                     714   BIC:                         1.205e+04\n",
       "Df Model:                          15                                         \n",
       "Covariance Type:            nonrobust                                         \n",
       "==============================================================================\n",
       "                 coef    std err          t      P>|t|      [0.025      0.975]\n",
       "------------------------------------------------------------------------------\n",
       "const       1600.1658     85.337     18.751      0.000    1432.625    1767.707\n",
       "yr          2138.2489     64.776     33.010      0.000    2011.074    2265.424\n",
       "summer       904.5139    196.295      4.608      0.000     519.130    1289.898\n",
       "fall        1167.1693    214.303      5.446      0.000     746.429    1587.909\n",
       "winter      1846.7773    110.336     16.738      0.000    1630.156    2063.398\n",
       "mar         1037.6498    145.945      7.110      0.000     751.117    1324.183\n",
       "apr         1223.0895    231.074      5.293      0.000     769.424    1676.755\n",
       "may         2042.5701    230.366      8.867      0.000    1590.294    2494.847\n",
       "jun         2256.9288    214.888     10.503      0.000    1835.041    2678.817\n",
       "jul         1864.5152    239.210      7.794      0.000    1394.877    2334.154\n",
       "aug         2027.1415    239.224      8.474      0.000    1557.475    2496.808\n",
       "sept        2138.0543    197.803     10.809      0.000    1749.710    2526.399\n",
       "oct         1153.1286    140.234      8.223      0.000     877.809    1428.448\n",
       "sun          110.8999     92.077      1.204      0.229     -69.874     291.674\n",
       "mist        -696.6562     69.908     -9.965      0.000    -833.906    -559.406\n",
       "light_snow -2543.9698    197.768    -12.863      0.000   -2932.246   -2155.694\n",
       "==============================================================================\n",
       "Omnibus:                      129.472   Durbin-Watson:                   1.147\n",
       "Prob(Omnibus):                  0.000   Jarque-Bera (JB):              433.801\n",
       "Skew:                          -0.827   Prob(JB):                     6.33e-95\n",
       "Kurtosis:                       6.395   Cond. No.                         20.5\n",
       "==============================================================================\n",
       "\n",
       "Notes:\n",
       "[1] Standard Errors assume that the covariance matrix of the errors is correctly specified.\n",
       "\"\"\""
      ]
     },
     "execution_count": 49,
     "metadata": {},
     "output_type": "execute_result"
    }
   ],
   "source": [
    "X_train_1_rfe = sm.add_constant(X_train_1_rfe)\n",
    "linear_model_2 = sm.OLS(y_train_1,X_train_1_rfe).fit() \n",
    "linear_model_2.summary()"
   ]
  },
  {
   "cell_type": "code",
   "execution_count": null,
   "id": "31e90ff6",
   "metadata": {},
   "outputs": [],
   "source": [
    "\n",
    "\n",
    "\n"
   ]
  }
 ],
 "metadata": {
  "kernelspec": {
   "display_name": "Python 3",
   "language": "python",
   "name": "python3"
  },
  "language_info": {
   "codemirror_mode": {
    "name": "ipython",
    "version": 3
   },
   "file_extension": ".py",
   "mimetype": "text/x-python",
   "name": "python",
   "nbconvert_exporter": "python",
   "pygments_lexer": "ipython3",
   "version": "3.8.5"
  }
 },
 "nbformat": 4,
 "nbformat_minor": 5
}
